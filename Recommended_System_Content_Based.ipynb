{
    "cells": [
        {
            "cell_type": "markdown",
            "metadata": {},
            "source": "# Content-Based Recommended System"
        },
        {
            "cell_type": "code",
            "execution_count": 30,
            "metadata": {},
            "outputs": [],
            "source": "# Let's import the required libraries\nimport pandas as pd\nimport numpy as np\nimport matplotlib.pyplot as plt\nimport seaborn as sns\nimport re\n%matplotlib inline\nsns.set()"
        },
        {
            "cell_type": "markdown",
            "metadata": {},
            "source": "### Data Collection"
        },
        {
            "cell_type": "markdown",
            "metadata": {},
            "source": "\nLet's read the imdb movies raw dataset from csv file into pandas dataframe"
        },
        {
            "cell_type": "code",
            "execution_count": 31,
            "metadata": {},
            "outputs": [
                {
                    "data": {
                        "text/html": "<div>\n<style scoped>\n    .dataframe tbody tr th:only-of-type {\n        vertical-align: middle;\n    }\n\n    .dataframe tbody tr th {\n        vertical-align: top;\n    }\n\n    .dataframe thead th {\n        text-align: right;\n    }\n</style>\n<table border=\"1\" class=\"dataframe\">\n  <thead>\n    <tr style=\"text-align: right;\">\n      <th></th>\n      <th>Imdb_Id</th>\n      <th>Year</th>\n      <th>Movie_Id</th>\n      <th>Title</th>\n      <th>Genres</th>\n      <th>Rating</th>\n      <th>T_Id</th>\n    </tr>\n  </thead>\n  <tbody>\n    <tr>\n      <th>0</th>\n      <td>218817</td>\n      <td>2001</td>\n      <td>4052</td>\n      <td>Antitrust</td>\n      <td>Crime, Drama, Thriller</td>\n      <td>3.1</td>\n      <td>9989.0</td>\n    </tr>\n    <tr>\n      <th>1</th>\n      <td>238948</td>\n      <td>2001</td>\n      <td>4053</td>\n      <td>Double Take</td>\n      <td>Action, Comedy</td>\n      <td>2.7</td>\n      <td>18828.0</td>\n    </tr>\n    <tr>\n      <th>2</th>\n      <td>206275</td>\n      <td>2001</td>\n      <td>4054</td>\n      <td>Save the Last Dance</td>\n      <td>Drama, Romance</td>\n      <td>3.2</td>\n      <td>9816.0</td>\n    </tr>\n    <tr>\n      <th>3</th>\n      <td>237572</td>\n      <td>2001</td>\n      <td>4056</td>\n      <td>Pledge, The</td>\n      <td>Crime, Drama, Mystery, Thriller</td>\n      <td>3.3</td>\n      <td>5955.0</td>\n    </tr>\n    <tr>\n      <th>4</th>\n      <td>186589</td>\n      <td>2001</td>\n      <td>4068</td>\n      <td>Sugar &amp; Spice</td>\n      <td>Comedy</td>\n      <td>2.8</td>\n      <td>16723.0</td>\n    </tr>\n  </tbody>\n</table>\n</div>",
                        "text/plain": "   Imdb_Id  Year  Movie_Id                Title  \\\n0   218817  2001      4052            Antitrust   \n1   238948  2001      4053          Double Take   \n2   206275  2001      4054  Save the Last Dance   \n3   237572  2001      4056          Pledge, The   \n4   186589  2001      4068        Sugar & Spice   \n\n                            Genres  Rating     T_Id  \n0           Crime, Drama, Thriller     3.1   9989.0  \n1                   Action, Comedy     2.7  18828.0  \n2                   Drama, Romance     3.2   9816.0  \n3  Crime, Drama, Mystery, Thriller     3.3   5955.0  \n4                           Comedy     2.8  16723.0  "
                    },
                    "execution_count": 31,
                    "metadata": {},
                    "output_type": "execute_result"
                }
            ],
            "source": "# Read the csv file and store into pandas dataframe\ndf_imdb_raw=pd.read_csv('imdb_movies.csv')\n\n# let's see the first 5 rows of dataframe\ndf_imdb_raw.head()"
        },
        {
            "cell_type": "markdown",
            "metadata": {},
            "source": "### Data Cleansing"
        },
        {
            "cell_type": "code",
            "execution_count": 32,
            "metadata": {},
            "outputs": [
                {
                    "data": {
                        "text/html": "<div>\n<style scoped>\n    .dataframe tbody tr th:only-of-type {\n        vertical-align: middle;\n    }\n\n    .dataframe tbody tr th {\n        vertical-align: top;\n    }\n\n    .dataframe thead th {\n        text-align: right;\n    }\n</style>\n<table border=\"1\" class=\"dataframe\">\n  <thead>\n    <tr style=\"text-align: right;\">\n      <th></th>\n      <th>Imdb_Id</th>\n      <th>Year</th>\n      <th>Movie_Id</th>\n      <th>Rating</th>\n      <th>T_Id</th>\n    </tr>\n  </thead>\n  <tbody>\n    <tr>\n      <th>count</th>\n      <td>16398.00</td>\n      <td>16398.0</td>\n      <td>16398.00</td>\n      <td>16398.00</td>\n      <td>16255.00</td>\n    </tr>\n    <tr>\n      <th>mean</th>\n      <td>1430633.21</td>\n      <td>2042.0</td>\n      <td>94229.36</td>\n      <td>3.09</td>\n      <td>101997.84</td>\n    </tr>\n    <tr>\n      <th>std</th>\n      <td>1046857.11</td>\n      <td>513.5</td>\n      <td>40839.59</td>\n      <td>0.74</td>\n      <td>100698.61</td>\n    </tr>\n    <tr>\n      <th>min</th>\n      <td>35423.00</td>\n      <td>2001.0</td>\n      <td>4052.00</td>\n      <td>0.50</td>\n      <td>12.00</td>\n    </tr>\n    <tr>\n      <th>25%</th>\n      <td>448131.75</td>\n      <td>2006.0</td>\n      <td>68934.25</td>\n      <td>2.80</td>\n      <td>21066.00</td>\n    </tr>\n    <tr>\n      <th>50%</th>\n      <td>1251546.50</td>\n      <td>2009.0</td>\n      <td>101380.00</td>\n      <td>3.20</td>\n      <td>59013.00</td>\n    </tr>\n    <tr>\n      <th>75%</th>\n      <td>2031562.25</td>\n      <td>2012.0</td>\n      <td>129246.75</td>\n      <td>3.50</td>\n      <td>161915.50</td>\n    </tr>\n    <tr>\n      <th>max</th>\n      <td>5290524.00</td>\n      <td>9999.0</td>\n      <td>151709.00</td>\n      <td>5.00</td>\n      <td>378477.00</td>\n    </tr>\n  </tbody>\n</table>\n</div>",
                        "text/plain": "          Imdb_Id     Year   Movie_Id    Rating       T_Id\ncount    16398.00  16398.0   16398.00  16398.00   16255.00\nmean   1430633.21   2042.0   94229.36      3.09  101997.84\nstd    1046857.11    513.5   40839.59      0.74  100698.61\nmin      35423.00   2001.0    4052.00      0.50      12.00\n25%     448131.75   2006.0   68934.25      2.80   21066.00\n50%    1251546.50   2009.0  101380.00      3.20   59013.00\n75%    2031562.25   2012.0  129246.75      3.50  161915.50\nmax    5290524.00   9999.0  151709.00      5.00  378477.00"
                    },
                    "execution_count": 32,
                    "metadata": {},
                    "output_type": "execute_result"
                }
            ],
            "source": "# describe the dataframe that contains IMDB movies raw data \ndf_imdb_raw.describe().round(2)"
        },
        {
            "cell_type": "markdown",
            "metadata": {},
            "source": "\nWe can see that T_Id attribute count doesn't match with rest of the features that indicates it contains some null values. I think we need not to bother much as this feature is irrelevant for our model and it will be dropped soon. Any way we will just check the null count"
        },
        {
            "cell_type": "code",
            "execution_count": 33,
            "metadata": {},
            "outputs": [
                {
                    "data": {
                        "text/html": "<div>\n<style scoped>\n    .dataframe tbody tr th:only-of-type {\n        vertical-align: middle;\n    }\n\n    .dataframe tbody tr th {\n        vertical-align: top;\n    }\n\n    .dataframe thead th {\n        text-align: right;\n    }\n</style>\n<table border=\"1\" class=\"dataframe\">\n  <thead>\n    <tr style=\"text-align: right;\">\n      <th></th>\n      <th>Imdb_Id</th>\n      <th>Year</th>\n      <th>Movie_Id</th>\n      <th>Title</th>\n      <th>Genres</th>\n      <th>Rating</th>\n      <th>T_Id</th>\n    </tr>\n  </thead>\n  <tbody>\n    <tr>\n      <th>0</th>\n      <td>0</td>\n      <td>0</td>\n      <td>0</td>\n      <td>0</td>\n      <td>0</td>\n      <td>0</td>\n      <td>143</td>\n    </tr>\n  </tbody>\n</table>\n</div>",
                        "text/plain": "   Imdb_Id  Year  Movie_Id  Title  Genres  Rating  T_Id\n0        0     0         0      0       0       0   143"
                    },
                    "execution_count": 33,
                    "metadata": {},
                    "output_type": "execute_result"
                }
            ],
            "source": "df_imdb_raw.isna().sum().to_frame().T"
        },
        {
            "cell_type": "code",
            "execution_count": 34,
            "metadata": {},
            "outputs": [],
            "source": "# Let's create a function to correct the title in some rows. ex: from \"Pledge, The\" to \"The Pledge\" \ndef title_correction(movie_name):\n    results=re.findall(', The$', movie_name)\n    \n# Swap the values if title contains the string else no change\n    if len(results) == 1:\n        t_lst=movie_name.split(',')\n        t_name=t_lst[1].strip()+' '+t_lst[0].strip()\n    else:\n        t_name=movie_name\n\n# return the movie title   \n    return (t_name)"
        },
        {
            "cell_type": "markdown",
            "metadata": {},
            "source": "\nLet's apply the above user defined function to correct the titles where it is applicable. "
        },
        {
            "cell_type": "code",
            "execution_count": 35,
            "metadata": {},
            "outputs": [
                {
                    "data": {
                        "text/html": "<div>\n<style scoped>\n    .dataframe tbody tr th:only-of-type {\n        vertical-align: middle;\n    }\n\n    .dataframe tbody tr th {\n        vertical-align: top;\n    }\n\n    .dataframe thead th {\n        text-align: right;\n    }\n</style>\n<table border=\"1\" class=\"dataframe\">\n  <thead>\n    <tr style=\"text-align: right;\">\n      <th></th>\n      <th>Imdb_Id</th>\n      <th>Year</th>\n      <th>Movie_Id</th>\n      <th>Title</th>\n      <th>Genres</th>\n      <th>Rating</th>\n      <th>T_Id</th>\n      <th>Movie Title</th>\n    </tr>\n  </thead>\n  <tbody>\n    <tr>\n      <th>0</th>\n      <td>218817</td>\n      <td>2001</td>\n      <td>4052</td>\n      <td>Antitrust</td>\n      <td>Crime, Drama, Thriller</td>\n      <td>3.1</td>\n      <td>9989.0</td>\n      <td>Antitrust</td>\n    </tr>\n    <tr>\n      <th>1</th>\n      <td>238948</td>\n      <td>2001</td>\n      <td>4053</td>\n      <td>Double Take</td>\n      <td>Action, Comedy</td>\n      <td>2.7</td>\n      <td>18828.0</td>\n      <td>Double Take</td>\n    </tr>\n    <tr>\n      <th>2</th>\n      <td>206275</td>\n      <td>2001</td>\n      <td>4054</td>\n      <td>Save the Last Dance</td>\n      <td>Drama, Romance</td>\n      <td>3.2</td>\n      <td>9816.0</td>\n      <td>Save the Last Dance</td>\n    </tr>\n    <tr>\n      <th>3</th>\n      <td>237572</td>\n      <td>2001</td>\n      <td>4056</td>\n      <td>Pledge, The</td>\n      <td>Crime, Drama, Mystery, Thriller</td>\n      <td>3.3</td>\n      <td>5955.0</td>\n      <td>The Pledge</td>\n    </tr>\n    <tr>\n      <th>4</th>\n      <td>186589</td>\n      <td>2001</td>\n      <td>4068</td>\n      <td>Sugar &amp; Spice</td>\n      <td>Comedy</td>\n      <td>2.8</td>\n      <td>16723.0</td>\n      <td>Sugar &amp; Spice</td>\n    </tr>\n  </tbody>\n</table>\n</div>",
                        "text/plain": "   Imdb_Id  Year  Movie_Id                Title  \\\n0   218817  2001      4052            Antitrust   \n1   238948  2001      4053          Double Take   \n2   206275  2001      4054  Save the Last Dance   \n3   237572  2001      4056          Pledge, The   \n4   186589  2001      4068        Sugar & Spice   \n\n                            Genres  Rating     T_Id          Movie Title  \n0           Crime, Drama, Thriller     3.1   9989.0            Antitrust  \n1                   Action, Comedy     2.7  18828.0          Double Take  \n2                   Drama, Romance     3.2   9816.0  Save the Last Dance  \n3  Crime, Drama, Mystery, Thriller     3.3   5955.0           The Pledge  \n4                           Comedy     2.8  16723.0        Sugar & Spice  "
                    },
                    "execution_count": 35,
                    "metadata": {},
                    "output_type": "execute_result"
                }
            ],
            "source": "# copy the orignal dataframe\ndf_imdb_adj=df_imdb_raw.copy()\n\n# apply the function on title column and display the first five rows\ndf_imdb_adj['Movie Title']=df_imdb_raw['Title'].apply(title_correction)\ndf_imdb_adj.head()"
        },
        {
            "cell_type": "markdown",
            "metadata": {},
            "source": "\nNow we need to drop the columns that are not required for model i.e. some system generated numbers like Imdb_id, T_id etc.."
        },
        {
            "cell_type": "code",
            "execution_count": 36,
            "metadata": {},
            "outputs": [
                {
                    "data": {
                        "text/html": "<div>\n<style scoped>\n    .dataframe tbody tr th:only-of-type {\n        vertical-align: middle;\n    }\n\n    .dataframe tbody tr th {\n        vertical-align: top;\n    }\n\n    .dataframe thead th {\n        text-align: right;\n    }\n</style>\n<table border=\"1\" class=\"dataframe\">\n  <thead>\n    <tr style=\"text-align: right;\">\n      <th></th>\n      <th>Year</th>\n      <th>Movie_Id</th>\n      <th>Genres</th>\n      <th>Rating</th>\n      <th>Movie Title</th>\n    </tr>\n  </thead>\n  <tbody>\n    <tr>\n      <th>0</th>\n      <td>2001</td>\n      <td>4052</td>\n      <td>Crime, Drama, Thriller</td>\n      <td>3.1</td>\n      <td>Antitrust</td>\n    </tr>\n    <tr>\n      <th>1</th>\n      <td>2001</td>\n      <td>4053</td>\n      <td>Action, Comedy</td>\n      <td>2.7</td>\n      <td>Double Take</td>\n    </tr>\n    <tr>\n      <th>2</th>\n      <td>2001</td>\n      <td>4054</td>\n      <td>Drama, Romance</td>\n      <td>3.2</td>\n      <td>Save the Last Dance</td>\n    </tr>\n    <tr>\n      <th>3</th>\n      <td>2001</td>\n      <td>4056</td>\n      <td>Crime, Drama, Mystery, Thriller</td>\n      <td>3.3</td>\n      <td>The Pledge</td>\n    </tr>\n    <tr>\n      <th>4</th>\n      <td>2001</td>\n      <td>4068</td>\n      <td>Comedy</td>\n      <td>2.8</td>\n      <td>Sugar &amp; Spice</td>\n    </tr>\n  </tbody>\n</table>\n</div>",
                        "text/plain": "   Year  Movie_Id                           Genres  Rating  \\\n0  2001      4052           Crime, Drama, Thriller     3.1   \n1  2001      4053                   Action, Comedy     2.7   \n2  2001      4054                   Drama, Romance     3.2   \n3  2001      4056  Crime, Drama, Mystery, Thriller     3.3   \n4  2001      4068                           Comedy     2.8   \n\n           Movie Title  \n0            Antitrust  \n1          Double Take  \n2  Save the Last Dance  \n3           The Pledge  \n4        Sugar & Spice  "
                    },
                    "execution_count": 36,
                    "metadata": {},
                    "output_type": "execute_result"
                }
            ],
            "source": "df_imdb_transform=df_imdb_adj.drop(['Imdb_Id','T_Id','Title'], axis=1)\ndf_imdb_transform.head()"
        },
        {
            "cell_type": "markdown",
            "metadata": {},
            "source": "\nAs the multiple genres are concatenated with comma delimeter in the dataframe, we need to see the distinct genres in whole dataset"
        },
        {
            "cell_type": "code",
            "execution_count": 37,
            "metadata": {},
            "outputs": [
                {
                    "data": {
                        "text/plain": "{'(no genres listed)',\n 'Action',\n 'Adventure',\n 'Animation',\n 'Children',\n 'Comedy',\n 'Crime',\n 'Documentary',\n 'Drama',\n 'Fantasy',\n 'Film-Noir',\n 'Horror',\n 'IMAX',\n 'Musical',\n 'Mystery',\n 'Romance',\n 'Sci-Fi',\n 'Thriller',\n 'War',\n 'Western'}"
                    },
                    "execution_count": 37,
                    "metadata": {},
                    "output_type": "execute_result"
                }
            ],
            "source": "genres_arr=df_imdb_transform['Genres'].unique()\n\nuniq_genres=set()\nfor mv_gen in genres_arr:\n    for val in mv_gen.split(', '):\n        uniq_genres.add(val)\n    \nuniq_genres"
        },
        {
            "cell_type": "markdown",
            "metadata": {},
            "source": "\nWe can see that there are some movies without genres defined. So, we will drop those movies from dataset"
        },
        {
            "cell_type": "code",
            "execution_count": 38,
            "metadata": {},
            "outputs": [
                {
                    "data": {
                        "text/html": "<div>\n<style scoped>\n    .dataframe tbody tr th:only-of-type {\n        vertical-align: middle;\n    }\n\n    .dataframe tbody tr th {\n        vertical-align: top;\n    }\n\n    .dataframe thead th {\n        text-align: right;\n    }\n</style>\n<table border=\"1\" class=\"dataframe\">\n  <thead>\n    <tr style=\"text-align: right;\">\n      <th></th>\n      <th>Year</th>\n      <th>Movie_Id</th>\n      <th>Genres</th>\n      <th>Rating</th>\n      <th>Movie Title</th>\n    </tr>\n  </thead>\n  <tbody>\n    <tr>\n      <th>0</th>\n      <td>2001</td>\n      <td>4052</td>\n      <td>Crime, Drama, Thriller</td>\n      <td>3.1</td>\n      <td>Antitrust</td>\n    </tr>\n    <tr>\n      <th>1</th>\n      <td>2001</td>\n      <td>4053</td>\n      <td>Action, Comedy</td>\n      <td>2.7</td>\n      <td>Double Take</td>\n    </tr>\n    <tr>\n      <th>2</th>\n      <td>2001</td>\n      <td>4054</td>\n      <td>Drama, Romance</td>\n      <td>3.2</td>\n      <td>Save the Last Dance</td>\n    </tr>\n    <tr>\n      <th>3</th>\n      <td>2001</td>\n      <td>4056</td>\n      <td>Crime, Drama, Mystery, Thriller</td>\n      <td>3.3</td>\n      <td>The Pledge</td>\n    </tr>\n    <tr>\n      <th>4</th>\n      <td>2001</td>\n      <td>4068</td>\n      <td>Comedy</td>\n      <td>2.8</td>\n      <td>Sugar &amp; Spice</td>\n    </tr>\n  </tbody>\n</table>\n</div>",
                        "text/plain": "   Year  Movie_Id                           Genres  Rating  \\\n0  2001      4052           Crime, Drama, Thriller     3.1   \n1  2001      4053                   Action, Comedy     2.7   \n2  2001      4054                   Drama, Romance     3.2   \n3  2001      4056  Crime, Drama, Mystery, Thriller     3.3   \n4  2001      4068                           Comedy     2.8   \n\n           Movie Title  \n0            Antitrust  \n1          Double Take  \n2  Save the Last Dance  \n3           The Pledge  \n4        Sugar & Spice  "
                    },
                    "execution_count": 38,
                    "metadata": {},
                    "output_type": "execute_result"
                }
            ],
            "source": "row_ids=df_imdb_transform[df_imdb_transform['Genres']=='(no genres listed)'].index\n\ndf_imdb_transform.drop(row_ids, inplace=True)\ndf_imdb_transform.head()"
        },
        {
            "cell_type": "markdown",
            "metadata": {},
            "source": "\nTo calculate the weighted genre matrix in next section i.e as part of our model development, we cannot work on the concatenated genres column. So, we need to split the each genre into individual columns"
        },
        {
            "cell_type": "code",
            "execution_count": 39,
            "metadata": {},
            "outputs": [],
            "source": "# split the genres based on comma delimeter \nfor idx, row in df_imdb_transform.iterrows():\n    for genre in row['Genres'].split(', '):\n        df_imdb_transform.at[idx, genre]=1"
        },
        {
            "cell_type": "code",
            "execution_count": 40,
            "metadata": {},
            "outputs": [
                {
                    "data": {
                        "text/html": "<div>\n<style scoped>\n    .dataframe tbody tr th:only-of-type {\n        vertical-align: middle;\n    }\n\n    .dataframe tbody tr th {\n        vertical-align: top;\n    }\n\n    .dataframe thead th {\n        text-align: right;\n    }\n</style>\n<table border=\"1\" class=\"dataframe\">\n  <thead>\n    <tr style=\"text-align: right;\">\n      <th></th>\n      <th>Year</th>\n      <th>Movie_Id</th>\n      <th>Genres</th>\n      <th>Rating</th>\n      <th>Movie Title</th>\n      <th>Crime</th>\n      <th>Drama</th>\n      <th>Thriller</th>\n      <th>Action</th>\n      <th>Comedy</th>\n      <th>...</th>\n      <th>Animation</th>\n      <th>Children</th>\n      <th>War</th>\n      <th>Adventure</th>\n      <th>Sci-Fi</th>\n      <th>Documentary</th>\n      <th>Musical</th>\n      <th>IMAX</th>\n      <th>Western</th>\n      <th>Film-Noir</th>\n    </tr>\n  </thead>\n  <tbody>\n    <tr>\n      <th>0</th>\n      <td>2001</td>\n      <td>4052</td>\n      <td>Crime, Drama, Thriller</td>\n      <td>3.1</td>\n      <td>Antitrust</td>\n      <td>1.0</td>\n      <td>1.0</td>\n      <td>1.0</td>\n      <td>NaN</td>\n      <td>NaN</td>\n      <td>...</td>\n      <td>NaN</td>\n      <td>NaN</td>\n      <td>NaN</td>\n      <td>NaN</td>\n      <td>NaN</td>\n      <td>NaN</td>\n      <td>NaN</td>\n      <td>NaN</td>\n      <td>NaN</td>\n      <td>NaN</td>\n    </tr>\n    <tr>\n      <th>1</th>\n      <td>2001</td>\n      <td>4053</td>\n      <td>Action, Comedy</td>\n      <td>2.7</td>\n      <td>Double Take</td>\n      <td>NaN</td>\n      <td>NaN</td>\n      <td>NaN</td>\n      <td>1.0</td>\n      <td>1.0</td>\n      <td>...</td>\n      <td>NaN</td>\n      <td>NaN</td>\n      <td>NaN</td>\n      <td>NaN</td>\n      <td>NaN</td>\n      <td>NaN</td>\n      <td>NaN</td>\n      <td>NaN</td>\n      <td>NaN</td>\n      <td>NaN</td>\n    </tr>\n    <tr>\n      <th>2</th>\n      <td>2001</td>\n      <td>4054</td>\n      <td>Drama, Romance</td>\n      <td>3.2</td>\n      <td>Save the Last Dance</td>\n      <td>NaN</td>\n      <td>1.0</td>\n      <td>NaN</td>\n      <td>NaN</td>\n      <td>NaN</td>\n      <td>...</td>\n      <td>NaN</td>\n      <td>NaN</td>\n      <td>NaN</td>\n      <td>NaN</td>\n      <td>NaN</td>\n      <td>NaN</td>\n      <td>NaN</td>\n      <td>NaN</td>\n      <td>NaN</td>\n      <td>NaN</td>\n    </tr>\n    <tr>\n      <th>3</th>\n      <td>2001</td>\n      <td>4056</td>\n      <td>Crime, Drama, Mystery, Thriller</td>\n      <td>3.3</td>\n      <td>The Pledge</td>\n      <td>1.0</td>\n      <td>1.0</td>\n      <td>1.0</td>\n      <td>NaN</td>\n      <td>NaN</td>\n      <td>...</td>\n      <td>NaN</td>\n      <td>NaN</td>\n      <td>NaN</td>\n      <td>NaN</td>\n      <td>NaN</td>\n      <td>NaN</td>\n      <td>NaN</td>\n      <td>NaN</td>\n      <td>NaN</td>\n      <td>NaN</td>\n    </tr>\n    <tr>\n      <th>4</th>\n      <td>2001</td>\n      <td>4068</td>\n      <td>Comedy</td>\n      <td>2.8</td>\n      <td>Sugar &amp; Spice</td>\n      <td>NaN</td>\n      <td>NaN</td>\n      <td>NaN</td>\n      <td>NaN</td>\n      <td>1.0</td>\n      <td>...</td>\n      <td>NaN</td>\n      <td>NaN</td>\n      <td>NaN</td>\n      <td>NaN</td>\n      <td>NaN</td>\n      <td>NaN</td>\n      <td>NaN</td>\n      <td>NaN</td>\n      <td>NaN</td>\n      <td>NaN</td>\n    </tr>\n  </tbody>\n</table>\n<p>5 rows \u00d7 24 columns</p>\n</div>",
                        "text/plain": "   Year  Movie_Id                           Genres  Rating  \\\n0  2001      4052           Crime, Drama, Thriller     3.1   \n1  2001      4053                   Action, Comedy     2.7   \n2  2001      4054                   Drama, Romance     3.2   \n3  2001      4056  Crime, Drama, Mystery, Thriller     3.3   \n4  2001      4068                           Comedy     2.8   \n\n           Movie Title  Crime  Drama  Thriller  Action  Comedy  ...  \\\n0            Antitrust    1.0    1.0       1.0     NaN     NaN  ...   \n1          Double Take    NaN    NaN       NaN     1.0     1.0  ...   \n2  Save the Last Dance    NaN    1.0       NaN     NaN     NaN  ...   \n3           The Pledge    1.0    1.0       1.0     NaN     NaN  ...   \n4        Sugar & Spice    NaN    NaN       NaN     NaN     1.0  ...   \n\n   Animation  Children  War  Adventure  Sci-Fi  Documentary  Musical  IMAX  \\\n0        NaN       NaN  NaN        NaN     NaN          NaN      NaN   NaN   \n1        NaN       NaN  NaN        NaN     NaN          NaN      NaN   NaN   \n2        NaN       NaN  NaN        NaN     NaN          NaN      NaN   NaN   \n3        NaN       NaN  NaN        NaN     NaN          NaN      NaN   NaN   \n4        NaN       NaN  NaN        NaN     NaN          NaN      NaN   NaN   \n\n   Western  Film-Noir  \n0      NaN        NaN  \n1      NaN        NaN  \n2      NaN        NaN  \n3      NaN        NaN  \n4      NaN        NaN  \n\n[5 rows x 24 columns]"
                    },
                    "execution_count": 40,
                    "metadata": {},
                    "output_type": "execute_result"
                }
            ],
            "source": "df_imdb_transform.head()"
        },
        {
            "cell_type": "markdown",
            "metadata": {},
            "source": "\nWe can clearly see that there are NaN values for genres that are anyway not applicable at once for any movie. So, let's replace these values with 0."
        },
        {
            "cell_type": "code",
            "execution_count": 41,
            "metadata": {},
            "outputs": [
                {
                    "data": {
                        "text/html": "<div>\n<style scoped>\n    .dataframe tbody tr th:only-of-type {\n        vertical-align: middle;\n    }\n\n    .dataframe tbody tr th {\n        vertical-align: top;\n    }\n\n    .dataframe thead th {\n        text-align: right;\n    }\n</style>\n<table border=\"1\" class=\"dataframe\">\n  <thead>\n    <tr style=\"text-align: right;\">\n      <th></th>\n      <th>Year</th>\n      <th>Movie_Id</th>\n      <th>Genres</th>\n      <th>Rating</th>\n      <th>Movie Title</th>\n      <th>Crime</th>\n      <th>Drama</th>\n      <th>Thriller</th>\n      <th>Action</th>\n      <th>Comedy</th>\n      <th>...</th>\n      <th>Animation</th>\n      <th>Children</th>\n      <th>War</th>\n      <th>Adventure</th>\n      <th>Sci-Fi</th>\n      <th>Documentary</th>\n      <th>Musical</th>\n      <th>IMAX</th>\n      <th>Western</th>\n      <th>Film-Noir</th>\n    </tr>\n  </thead>\n  <tbody>\n    <tr>\n      <th>0</th>\n      <td>2001</td>\n      <td>4052</td>\n      <td>Crime, Drama, Thriller</td>\n      <td>3.1</td>\n      <td>Antitrust</td>\n      <td>1.0</td>\n      <td>1.0</td>\n      <td>1.0</td>\n      <td>0.0</td>\n      <td>0.0</td>\n      <td>...</td>\n      <td>0.0</td>\n      <td>0.0</td>\n      <td>0.0</td>\n      <td>0.0</td>\n      <td>0.0</td>\n      <td>0.0</td>\n      <td>0.0</td>\n      <td>0.0</td>\n      <td>0.0</td>\n      <td>0.0</td>\n    </tr>\n    <tr>\n      <th>1</th>\n      <td>2001</td>\n      <td>4053</td>\n      <td>Action, Comedy</td>\n      <td>2.7</td>\n      <td>Double Take</td>\n      <td>0.0</td>\n      <td>0.0</td>\n      <td>0.0</td>\n      <td>1.0</td>\n      <td>1.0</td>\n      <td>...</td>\n      <td>0.0</td>\n      <td>0.0</td>\n      <td>0.0</td>\n      <td>0.0</td>\n      <td>0.0</td>\n      <td>0.0</td>\n      <td>0.0</td>\n      <td>0.0</td>\n      <td>0.0</td>\n      <td>0.0</td>\n    </tr>\n    <tr>\n      <th>2</th>\n      <td>2001</td>\n      <td>4054</td>\n      <td>Drama, Romance</td>\n      <td>3.2</td>\n      <td>Save the Last Dance</td>\n      <td>0.0</td>\n      <td>1.0</td>\n      <td>0.0</td>\n      <td>0.0</td>\n      <td>0.0</td>\n      <td>...</td>\n      <td>0.0</td>\n      <td>0.0</td>\n      <td>0.0</td>\n      <td>0.0</td>\n      <td>0.0</td>\n      <td>0.0</td>\n      <td>0.0</td>\n      <td>0.0</td>\n      <td>0.0</td>\n      <td>0.0</td>\n    </tr>\n    <tr>\n      <th>3</th>\n      <td>2001</td>\n      <td>4056</td>\n      <td>Crime, Drama, Mystery, Thriller</td>\n      <td>3.3</td>\n      <td>The Pledge</td>\n      <td>1.0</td>\n      <td>1.0</td>\n      <td>1.0</td>\n      <td>0.0</td>\n      <td>0.0</td>\n      <td>...</td>\n      <td>0.0</td>\n      <td>0.0</td>\n      <td>0.0</td>\n      <td>0.0</td>\n      <td>0.0</td>\n      <td>0.0</td>\n      <td>0.0</td>\n      <td>0.0</td>\n      <td>0.0</td>\n      <td>0.0</td>\n    </tr>\n    <tr>\n      <th>4</th>\n      <td>2001</td>\n      <td>4068</td>\n      <td>Comedy</td>\n      <td>2.8</td>\n      <td>Sugar &amp; Spice</td>\n      <td>0.0</td>\n      <td>0.0</td>\n      <td>0.0</td>\n      <td>0.0</td>\n      <td>1.0</td>\n      <td>...</td>\n      <td>0.0</td>\n      <td>0.0</td>\n      <td>0.0</td>\n      <td>0.0</td>\n      <td>0.0</td>\n      <td>0.0</td>\n      <td>0.0</td>\n      <td>0.0</td>\n      <td>0.0</td>\n      <td>0.0</td>\n    </tr>\n  </tbody>\n</table>\n<p>5 rows \u00d7 24 columns</p>\n</div>",
                        "text/plain": "   Year  Movie_Id                           Genres  Rating  \\\n0  2001      4052           Crime, Drama, Thriller     3.1   \n1  2001      4053                   Action, Comedy     2.7   \n2  2001      4054                   Drama, Romance     3.2   \n3  2001      4056  Crime, Drama, Mystery, Thriller     3.3   \n4  2001      4068                           Comedy     2.8   \n\n           Movie Title  Crime  Drama  Thriller  Action  Comedy  ...  \\\n0            Antitrust    1.0    1.0       1.0     0.0     0.0  ...   \n1          Double Take    0.0    0.0       0.0     1.0     1.0  ...   \n2  Save the Last Dance    0.0    1.0       0.0     0.0     0.0  ...   \n3           The Pledge    1.0    1.0       1.0     0.0     0.0  ...   \n4        Sugar & Spice    0.0    0.0       0.0     0.0     1.0  ...   \n\n   Animation  Children  War  Adventure  Sci-Fi  Documentary  Musical  IMAX  \\\n0        0.0       0.0  0.0        0.0     0.0          0.0      0.0   0.0   \n1        0.0       0.0  0.0        0.0     0.0          0.0      0.0   0.0   \n2        0.0       0.0  0.0        0.0     0.0          0.0      0.0   0.0   \n3        0.0       0.0  0.0        0.0     0.0          0.0      0.0   0.0   \n4        0.0       0.0  0.0        0.0     0.0          0.0      0.0   0.0   \n\n   Western  Film-Noir  \n0      0.0        0.0  \n1      0.0        0.0  \n2      0.0        0.0  \n3      0.0        0.0  \n4      0.0        0.0  \n\n[5 rows x 24 columns]"
                    },
                    "execution_count": 41,
                    "metadata": {},
                    "output_type": "execute_result"
                }
            ],
            "source": "df_imdb_transform.fillna(0, inplace=True)\ndf_imdb_transform.head()"
        },
        {
            "cell_type": "markdown",
            "metadata": {},
            "source": "\nGreat! Finally we have cleansed and transformed the raw data into required format. Let's move on and create some sample user input dataset"
        },
        {
            "cell_type": "code",
            "execution_count": 151,
            "metadata": {},
            "outputs": [
                {
                    "data": {
                        "text/html": "<div>\n<style scoped>\n    .dataframe tbody tr th:only-of-type {\n        vertical-align: middle;\n    }\n\n    .dataframe tbody tr th {\n        vertical-align: top;\n    }\n\n    .dataframe thead th {\n        text-align: right;\n    }\n</style>\n<table border=\"1\" class=\"dataframe\">\n  <thead>\n    <tr style=\"text-align: right;\">\n      <th></th>\n      <th>Imdb_Id</th>\n      <th>Year</th>\n      <th>Movie_Id</th>\n      <th>Title</th>\n      <th>Genres</th>\n      <th>Rating</th>\n      <th>T_Id</th>\n    </tr>\n  </thead>\n  <tbody>\n    <tr>\n      <th>300</th>\n      <td>145487</td>\n      <td>2002</td>\n      <td>5349</td>\n      <td>Spider-Man</td>\n      <td>Action, Adventure, Sci-Fi, Thriller</td>\n      <td>3.5</td>\n      <td>557.0</td>\n    </tr>\n    <tr>\n      <th>4831</th>\n      <td>499665</td>\n      <td>2002</td>\n      <td>76709</td>\n      <td>Spider-Man: The Ultimate Villain Showdown</td>\n      <td>Animation</td>\n      <td>3.4</td>\n      <td>49131.0</td>\n    </tr>\n    <tr>\n      <th>670</th>\n      <td>234215</td>\n      <td>2003</td>\n      <td>6365</td>\n      <td>Matrix Reloaded, The</td>\n      <td>Action, Adventure, Sci-Fi, Thriller, IMAX</td>\n      <td>3.3</td>\n      <td>604.0</td>\n    </tr>\n    <tr>\n      <th>877</th>\n      <td>242653</td>\n      <td>2003</td>\n      <td>6934</td>\n      <td>Matrix Revolutions, The</td>\n      <td>Action, Adventure, Sci-Fi, Thriller, IMAX</td>\n      <td>3.2</td>\n      <td>605.0</td>\n    </tr>\n    <tr>\n      <th>1138</th>\n      <td>316654</td>\n      <td>2004</td>\n      <td>8636</td>\n      <td>Spider-Man 2</td>\n      <td>Action, Adventure, Sci-Fi, IMAX</td>\n      <td>3.5</td>\n      <td>558.0</td>\n    </tr>\n    <tr>\n      <th>12820</th>\n      <td>439783</td>\n      <td>2004</td>\n      <td>132490</td>\n      <td>Return to Source: The Philosophy of The Matrix</td>\n      <td>Documentary</td>\n      <td>4.1</td>\n      <td>174615.0</td>\n    </tr>\n    <tr>\n      <th>2779</th>\n      <td>413300</td>\n      <td>2007</td>\n      <td>52722</td>\n      <td>Spider-Man 3</td>\n      <td>Action, Adventure, Sci-Fi, Thriller, IMAX</td>\n      <td>3.0</td>\n      <td>559.0</td>\n    </tr>\n    <tr>\n      <th>7213</th>\n      <td>948470</td>\n      <td>2012</td>\n      <td>95510</td>\n      <td>Amazing Spider-Man, The</td>\n      <td>Action, Adventure, Sci-Fi, IMAX</td>\n      <td>3.5</td>\n      <td>1930.0</td>\n    </tr>\n    <tr>\n      <th>9878</th>\n      <td>1872181</td>\n      <td>2014</td>\n      <td>110553</td>\n      <td>The Amazing Spider-Man 2</td>\n      <td>Action, Sci-Fi, IMAX</td>\n      <td>3.2</td>\n      <td>102382.0</td>\n    </tr>\n  </tbody>\n</table>\n</div>",
                        "text/plain": "       Imdb_Id  Year  Movie_Id  \\\n300     145487  2002      5349   \n4831    499665  2002     76709   \n670     234215  2003      6365   \n877     242653  2003      6934   \n1138    316654  2004      8636   \n12820   439783  2004    132490   \n2779    413300  2007     52722   \n7213    948470  2012     95510   \n9878   1872181  2014    110553   \n\n                                                Title  \\\n300                                        Spider-Man   \n4831        Spider-Man: The Ultimate Villain Showdown   \n670                              Matrix Reloaded, The   \n877                           Matrix Revolutions, The   \n1138                                     Spider-Man 2   \n12820  Return to Source: The Philosophy of The Matrix   \n2779                                     Spider-Man 3   \n7213                          Amazing Spider-Man, The   \n9878                         The Amazing Spider-Man 2   \n\n                                          Genres  Rating      T_Id  \n300          Action, Adventure, Sci-Fi, Thriller     3.5     557.0  \n4831                                   Animation     3.4   49131.0  \n670    Action, Adventure, Sci-Fi, Thriller, IMAX     3.3     604.0  \n877    Action, Adventure, Sci-Fi, Thriller, IMAX     3.2     605.0  \n1138             Action, Adventure, Sci-Fi, IMAX     3.5     558.0  \n12820                                Documentary     4.1  174615.0  \n2779   Action, Adventure, Sci-Fi, Thriller, IMAX     3.0     559.0  \n7213             Action, Adventure, Sci-Fi, IMAX     3.5    1930.0  \n9878                        Action, Sci-Fi, IMAX     3.2  102382.0  "
                    },
                    "execution_count": 151,
                    "metadata": {},
                    "output_type": "execute_result"
                }
            ],
            "source": "my_movies=df_imdb_raw[(df_imdb_raw['Title'].str.contains('Matrix')) | (df_imdb_raw['Title'].str.contains('Spider-Man'))]\nmy_movies.sort_values(by='Year')"
        },
        {
            "cell_type": "markdown",
            "metadata": {},
            "source": "### User Profile"
        },
        {
            "cell_type": "code",
            "execution_count": 152,
            "metadata": {},
            "outputs": [],
            "source": "# user data with movies names, genres and user ratings for those movies\nuser_data={\n    'Movie Name':['The Matrix Reloaded', 'Iron Man', 'Spider-Man'],\n    'Genres':['Action, Adventure, Sci-Fi, Thriller, IMAX', 'Action, Adventure, Sci-Fi', 'Action, Adventure, Sci-Fi, Thriller'],\n    'Ratings':['3.5', '4.5', '4.8']\n}"
        },
        {
            "cell_type": "markdown",
            "metadata": {},
            "source": "\nLet's convert the user data dictionary into pandas dataframe"
        },
        {
            "cell_type": "code",
            "execution_count": 153,
            "metadata": {},
            "outputs": [
                {
                    "data": {
                        "text/html": "<div>\n<style scoped>\n    .dataframe tbody tr th:only-of-type {\n        vertical-align: middle;\n    }\n\n    .dataframe tbody tr th {\n        vertical-align: top;\n    }\n\n    .dataframe thead th {\n        text-align: right;\n    }\n</style>\n<table border=\"1\" class=\"dataframe\">\n  <thead>\n    <tr style=\"text-align: right;\">\n      <th></th>\n      <th>Movie Name</th>\n      <th>Genres</th>\n      <th>Ratings</th>\n    </tr>\n  </thead>\n  <tbody>\n    <tr>\n      <th>0</th>\n      <td>The Matrix Reloaded</td>\n      <td>Action, Adventure, Sci-Fi, Thriller, IMAX</td>\n      <td>3.5</td>\n    </tr>\n    <tr>\n      <th>1</th>\n      <td>Iron Man</td>\n      <td>Action, Adventure, Sci-Fi</td>\n      <td>4.5</td>\n    </tr>\n    <tr>\n      <th>2</th>\n      <td>Spider-Man</td>\n      <td>Action, Adventure, Sci-Fi, Thriller</td>\n      <td>4.8</td>\n    </tr>\n  </tbody>\n</table>\n</div>",
                        "text/plain": "            Movie Name                                     Genres Ratings\n0  The Matrix Reloaded  Action, Adventure, Sci-Fi, Thriller, IMAX     3.5\n1             Iron Man                  Action, Adventure, Sci-Fi     4.5\n2           Spider-Man        Action, Adventure, Sci-Fi, Thriller     4.8"
                    },
                    "execution_count": 153,
                    "metadata": {},
                    "output_type": "execute_result"
                }
            ],
            "source": "df_user_movies=pd.DataFrame(user_data)\ndf_user_movies.head()"
        },
        {
            "cell_type": "markdown",
            "metadata": {},
            "source": "\nWe need a movie ID key column to identify the movies from the original dataset. So, we will use pandas merge to achieve it."
        },
        {
            "cell_type": "code",
            "execution_count": 154,
            "metadata": {},
            "outputs": [
                {
                    "data": {
                        "text/html": "<div>\n<style scoped>\n    .dataframe tbody tr th:only-of-type {\n        vertical-align: middle;\n    }\n\n    .dataframe tbody tr th {\n        vertical-align: top;\n    }\n\n    .dataframe thead th {\n        text-align: right;\n    }\n</style>\n<table border=\"1\" class=\"dataframe\">\n  <thead>\n    <tr style=\"text-align: right;\">\n      <th></th>\n      <th>Movie_Id</th>\n      <th>Movie Name</th>\n      <th>Genres</th>\n      <th>Ratings</th>\n    </tr>\n  </thead>\n  <tbody>\n    <tr>\n      <th>0</th>\n      <td>6365</td>\n      <td>The Matrix Reloaded</td>\n      <td>Action, Adventure, Sci-Fi, Thriller, IMAX</td>\n      <td>3.5</td>\n    </tr>\n    <tr>\n      <th>1</th>\n      <td>59315</td>\n      <td>Iron Man</td>\n      <td>Action, Adventure, Sci-Fi</td>\n      <td>4.5</td>\n    </tr>\n    <tr>\n      <th>2</th>\n      <td>5349</td>\n      <td>Spider-Man</td>\n      <td>Action, Adventure, Sci-Fi, Thriller</td>\n      <td>4.8</td>\n    </tr>\n  </tbody>\n</table>\n</div>",
                        "text/plain": "   Movie_Id           Movie Name                                     Genres  \\\n0      6365  The Matrix Reloaded  Action, Adventure, Sci-Fi, Thriller, IMAX   \n1     59315             Iron Man                  Action, Adventure, Sci-Fi   \n2      5349           Spider-Man        Action, Adventure, Sci-Fi, Thriller   \n\n  Ratings  \n0     3.5  \n1     4.5  \n2     4.8  "
                    },
                    "execution_count": 154,
                    "metadata": {},
                    "output_type": "execute_result"
                }
            ],
            "source": "df_imdb_movieids=df_imdb_transform[['Movie_Id','Movie Title']]\n\n# Join the dataframes\ndf_user_movies=pd.merge(df_user_movies, df_imdb_movieids, how='left', left_on='Movie Name', right_on='Movie Title')\n\n# Drop the duplicate columns i.e movie title\ndf_user_movies.drop('Movie Title', axis=1, inplace=True)\ndf_user_movies[['Movie_Id', 'Movie Name', 'Genres', 'Ratings']]"
        },
        {
            "cell_type": "markdown",
            "metadata": {},
            "source": "\nNow for the user movies, we need to extract the genres from the dataframe that we have created in the data cleansing section."
        },
        {
            "cell_type": "code",
            "execution_count": 155,
            "metadata": {},
            "outputs": [
                {
                    "data": {
                        "text/html": "<div>\n<style scoped>\n    .dataframe tbody tr th:only-of-type {\n        vertical-align: middle;\n    }\n\n    .dataframe tbody tr th {\n        vertical-align: top;\n    }\n\n    .dataframe thead th {\n        text-align: right;\n    }\n</style>\n<table border=\"1\" class=\"dataframe\">\n  <thead>\n    <tr style=\"text-align: right;\">\n      <th></th>\n      <th>Year</th>\n      <th>Movie_Id</th>\n      <th>Genres</th>\n      <th>Rating</th>\n      <th>Movie Title</th>\n      <th>Crime</th>\n      <th>Drama</th>\n      <th>Thriller</th>\n      <th>Action</th>\n      <th>Comedy</th>\n      <th>...</th>\n      <th>Animation</th>\n      <th>Children</th>\n      <th>War</th>\n      <th>Adventure</th>\n      <th>Sci-Fi</th>\n      <th>Documentary</th>\n      <th>Musical</th>\n      <th>IMAX</th>\n      <th>Western</th>\n      <th>Film-Noir</th>\n    </tr>\n  </thead>\n  <tbody>\n    <tr>\n      <th>300</th>\n      <td>2002</td>\n      <td>5349</td>\n      <td>Action, Adventure, Sci-Fi, Thriller</td>\n      <td>3.5</td>\n      <td>Spider-Man</td>\n      <td>0.0</td>\n      <td>0.0</td>\n      <td>1.0</td>\n      <td>1.0</td>\n      <td>0.0</td>\n      <td>...</td>\n      <td>0.0</td>\n      <td>0.0</td>\n      <td>0.0</td>\n      <td>1.0</td>\n      <td>1.0</td>\n      <td>0.0</td>\n      <td>0.0</td>\n      <td>0.0</td>\n      <td>0.0</td>\n      <td>0.0</td>\n    </tr>\n    <tr>\n      <th>670</th>\n      <td>2003</td>\n      <td>6365</td>\n      <td>Action, Adventure, Sci-Fi, Thriller, IMAX</td>\n      <td>3.3</td>\n      <td>The Matrix Reloaded</td>\n      <td>0.0</td>\n      <td>0.0</td>\n      <td>1.0</td>\n      <td>1.0</td>\n      <td>0.0</td>\n      <td>...</td>\n      <td>0.0</td>\n      <td>0.0</td>\n      <td>0.0</td>\n      <td>1.0</td>\n      <td>1.0</td>\n      <td>0.0</td>\n      <td>0.0</td>\n      <td>1.0</td>\n      <td>0.0</td>\n      <td>0.0</td>\n    </tr>\n    <tr>\n      <th>3373</th>\n      <td>2008</td>\n      <td>59315</td>\n      <td>Action, Adventure, Sci-Fi</td>\n      <td>3.9</td>\n      <td>Iron Man</td>\n      <td>0.0</td>\n      <td>0.0</td>\n      <td>0.0</td>\n      <td>1.0</td>\n      <td>0.0</td>\n      <td>...</td>\n      <td>0.0</td>\n      <td>0.0</td>\n      <td>0.0</td>\n      <td>1.0</td>\n      <td>1.0</td>\n      <td>0.0</td>\n      <td>0.0</td>\n      <td>0.0</td>\n      <td>0.0</td>\n      <td>0.0</td>\n    </tr>\n  </tbody>\n</table>\n<p>3 rows \u00d7 24 columns</p>\n</div>",
                        "text/plain": "      Year  Movie_Id                                     Genres  Rating  \\\n300   2002      5349        Action, Adventure, Sci-Fi, Thriller     3.5   \n670   2003      6365  Action, Adventure, Sci-Fi, Thriller, IMAX     3.3   \n3373  2008     59315                  Action, Adventure, Sci-Fi     3.9   \n\n              Movie Title  Crime  Drama  Thriller  Action  Comedy  ...  \\\n300            Spider-Man    0.0    0.0       1.0     1.0     0.0  ...   \n670   The Matrix Reloaded    0.0    0.0       1.0     1.0     0.0  ...   \n3373             Iron Man    0.0    0.0       0.0     1.0     0.0  ...   \n\n      Animation  Children  War  Adventure  Sci-Fi  Documentary  Musical  IMAX  \\\n300         0.0       0.0  0.0        1.0     1.0          0.0      0.0   0.0   \n670         0.0       0.0  0.0        1.0     1.0          0.0      0.0   1.0   \n3373        0.0       0.0  0.0        1.0     1.0          0.0      0.0   0.0   \n\n      Western  Film-Noir  \n300       0.0        0.0  \n670       0.0        0.0  \n3373      0.0        0.0  \n\n[3 rows x 24 columns]"
                    },
                    "execution_count": 155,
                    "metadata": {},
                    "output_type": "execute_result"
                }
            ],
            "source": "df_user_movies_imdb=df_imdb_transform[df_imdb_transform['Movie Title'].isin(df_user_movies['Movie Name'].tolist())]\ndf_user_movies_imdb"
        },
        {
            "cell_type": "code",
            "execution_count": 156,
            "metadata": {},
            "outputs": [
                {
                    "data": {
                        "text/html": "<div>\n<style scoped>\n    .dataframe tbody tr th:only-of-type {\n        vertical-align: middle;\n    }\n\n    .dataframe tbody tr th {\n        vertical-align: top;\n    }\n\n    .dataframe thead th {\n        text-align: right;\n    }\n</style>\n<table border=\"1\" class=\"dataframe\">\n  <thead>\n    <tr style=\"text-align: right;\">\n      <th></th>\n      <th>Crime</th>\n      <th>Drama</th>\n      <th>Thriller</th>\n      <th>Action</th>\n      <th>Comedy</th>\n      <th>Romance</th>\n      <th>Mystery</th>\n      <th>Horror</th>\n      <th>Fantasy</th>\n      <th>Animation</th>\n      <th>Children</th>\n      <th>War</th>\n      <th>Adventure</th>\n      <th>Sci-Fi</th>\n      <th>Documentary</th>\n      <th>Musical</th>\n      <th>IMAX</th>\n      <th>Western</th>\n      <th>Film-Noir</th>\n    </tr>\n  </thead>\n  <tbody>\n    <tr>\n      <th>300</th>\n      <td>0.0</td>\n      <td>0.0</td>\n      <td>1.0</td>\n      <td>1.0</td>\n      <td>0.0</td>\n      <td>0.0</td>\n      <td>0.0</td>\n      <td>0.0</td>\n      <td>0.0</td>\n      <td>0.0</td>\n      <td>0.0</td>\n      <td>0.0</td>\n      <td>1.0</td>\n      <td>1.0</td>\n      <td>0.0</td>\n      <td>0.0</td>\n      <td>0.0</td>\n      <td>0.0</td>\n      <td>0.0</td>\n    </tr>\n    <tr>\n      <th>670</th>\n      <td>0.0</td>\n      <td>0.0</td>\n      <td>1.0</td>\n      <td>1.0</td>\n      <td>0.0</td>\n      <td>0.0</td>\n      <td>0.0</td>\n      <td>0.0</td>\n      <td>0.0</td>\n      <td>0.0</td>\n      <td>0.0</td>\n      <td>0.0</td>\n      <td>1.0</td>\n      <td>1.0</td>\n      <td>0.0</td>\n      <td>0.0</td>\n      <td>1.0</td>\n      <td>0.0</td>\n      <td>0.0</td>\n    </tr>\n    <tr>\n      <th>3373</th>\n      <td>0.0</td>\n      <td>0.0</td>\n      <td>0.0</td>\n      <td>1.0</td>\n      <td>0.0</td>\n      <td>0.0</td>\n      <td>0.0</td>\n      <td>0.0</td>\n      <td>0.0</td>\n      <td>0.0</td>\n      <td>0.0</td>\n      <td>0.0</td>\n      <td>1.0</td>\n      <td>1.0</td>\n      <td>0.0</td>\n      <td>0.0</td>\n      <td>0.0</td>\n      <td>0.0</td>\n      <td>0.0</td>\n    </tr>\n  </tbody>\n</table>\n</div>",
                        "text/plain": "      Crime  Drama  Thriller  Action  Comedy  Romance  Mystery  Horror  \\\n300     0.0    0.0       1.0     1.0     0.0      0.0      0.0     0.0   \n670     0.0    0.0       1.0     1.0     0.0      0.0      0.0     0.0   \n3373    0.0    0.0       0.0     1.0     0.0      0.0      0.0     0.0   \n\n      Fantasy  Animation  Children  War  Adventure  Sci-Fi  Documentary  \\\n300       0.0        0.0       0.0  0.0        1.0     1.0          0.0   \n670       0.0        0.0       0.0  0.0        1.0     1.0          0.0   \n3373      0.0        0.0       0.0  0.0        1.0     1.0          0.0   \n\n      Musical  IMAX  Western  Film-Noir  \n300       0.0   0.0      0.0        0.0  \n670       0.0   1.0      0.0        0.0  \n3373      0.0   0.0      0.0        0.0  "
                    },
                    "execution_count": 156,
                    "metadata": {},
                    "output_type": "execute_result"
                }
            ],
            "source": "# drop the columns that are not required for us\ndf_user_genres=df_user_movies_imdb.drop(['Year', 'Movie_Id', 'Genres', 'Rating', 'Movie Title'], axis=1)\ndf_user_genres"
        },
        {
            "cell_type": "markdown",
            "metadata": {},
            "source": "\nLet's create an array for user movies ratings"
        },
        {
            "cell_type": "code",
            "execution_count": 157,
            "metadata": {},
            "outputs": [
                {
                    "data": {
                        "text/plain": "array([[3.5, 4.5, 4.8]])"
                    },
                    "execution_count": 157,
                    "metadata": {},
                    "output_type": "execute_result"
                }
            ],
            "source": "usr_ratings=df_user_movies[['Ratings']].astype('float').values.T\nusr_ratings"
        },
        {
            "cell_type": "markdown",
            "metadata": {},
            "source": "\nWe need to create an array for user movies genres"
        },
        {
            "cell_type": "code",
            "execution_count": 158,
            "metadata": {},
            "outputs": [
                {
                    "data": {
                        "text/plain": "array([[0., 0., 1., 1., 0., 0., 0., 0., 0., 0., 0., 0., 1., 1., 0., 0.,\n        0., 0., 0.],\n       [0., 0., 1., 1., 0., 0., 0., 0., 0., 0., 0., 0., 1., 1., 0., 0.,\n        1., 0., 0.],\n       [0., 0., 0., 1., 0., 0., 0., 0., 0., 0., 0., 0., 1., 1., 0., 0.,\n        0., 0., 0.]])"
                    },
                    "execution_count": 158,
                    "metadata": {},
                    "output_type": "execute_result"
                }
            ],
            "source": "usr_genres=df_user_genres.values\nusr_genres"
        },
        {
            "cell_type": "markdown",
            "metadata": {},
            "source": "\nOk. Now we need to create the user weighted genre matrix by performing the dot product of user ratings matrix with user genres matrix"
        },
        {
            "cell_type": "code",
            "execution_count": 159,
            "metadata": {},
            "outputs": [
                {
                    "name": "stdout",
                    "output_type": "stream",
                    "text": "Shape of input matrices:(1, 3), (3, 19)\n\n"
                },
                {
                    "data": {
                        "text/plain": "array([[ 0. ,  0. ,  8. , 12.8,  0. ,  0. ,  0. ,  0. ,  0. ,  0. ,  0. ,\n         0. , 12.8, 12.8,  0. ,  0. ,  4.5,  0. ,  0. ]])"
                    },
                    "execution_count": 159,
                    "metadata": {},
                    "output_type": "execute_result"
                }
            ],
            "source": "print (\"Shape of input matrices:{}, {}\\n\".format(usr_ratings.shape, usr_genres.shape))\nusr_weighted_genres=np.dot(usr_ratings, usr_genres)\nusr_weighted_genres"
        },
        {
            "cell_type": "markdown",
            "metadata": {},
            "source": "\nAbove values represent the user weighted genres matrix. Now we need to normalize the values"
        },
        {
            "cell_type": "code",
            "execution_count": 160,
            "metadata": {},
            "outputs": [
                {
                    "data": {
                        "text/plain": "array([[0.  , 0.  , 0.16, 0.25, 0.  , 0.  , 0.  , 0.  , 0.  , 0.  , 0.  ,\n        0.  , 0.25, 0.25, 0.  , 0.  , 0.09, 0.  , 0.  ]])"
                    },
                    "execution_count": 160,
                    "metadata": {},
                    "output_type": "execute_result"
                }
            ],
            "source": "usr_weighted_genres_norm=usr_weighted_genres/np.sum(usr_weighted_genres, axis=1)\nusr_weighted_genres_norm=np.round_(usr_weighted_genres_norm, 2)\nusr_weighted_genres_norm"
        },
        {
            "cell_type": "markdown",
            "metadata": {},
            "source": "\nExcellent! we have got the required user profile data to proceed further. Let's have a look at the values by converting into dataframe"
        },
        {
            "cell_type": "code",
            "execution_count": 161,
            "metadata": {},
            "outputs": [
                {
                    "data": {
                        "text/html": "<div>\n<style scoped>\n    .dataframe tbody tr th:only-of-type {\n        vertical-align: middle;\n    }\n\n    .dataframe tbody tr th {\n        vertical-align: top;\n    }\n\n    .dataframe thead th {\n        text-align: right;\n    }\n</style>\n<table border=\"1\" class=\"dataframe\">\n  <thead>\n    <tr style=\"text-align: right;\">\n      <th></th>\n      <th>Weighted_ratings</th>\n    </tr>\n  </thead>\n  <tbody>\n    <tr>\n      <th>Action</th>\n      <td>0.25</td>\n    </tr>\n    <tr>\n      <th>Sci-Fi</th>\n      <td>0.25</td>\n    </tr>\n    <tr>\n      <th>Adventure</th>\n      <td>0.25</td>\n    </tr>\n    <tr>\n      <th>Thriller</th>\n      <td>0.16</td>\n    </tr>\n    <tr>\n      <th>IMAX</th>\n      <td>0.09</td>\n    </tr>\n    <tr>\n      <th>Crime</th>\n      <td>0.00</td>\n    </tr>\n    <tr>\n      <th>War</th>\n      <td>0.00</td>\n    </tr>\n    <tr>\n      <th>Western</th>\n      <td>0.00</td>\n    </tr>\n    <tr>\n      <th>Musical</th>\n      <td>0.00</td>\n    </tr>\n    <tr>\n      <th>Documentary</th>\n      <td>0.00</td>\n    </tr>\n    <tr>\n      <th>Animation</th>\n      <td>0.00</td>\n    </tr>\n    <tr>\n      <th>Children</th>\n      <td>0.00</td>\n    </tr>\n    <tr>\n      <th>Drama</th>\n      <td>0.00</td>\n    </tr>\n    <tr>\n      <th>Fantasy</th>\n      <td>0.00</td>\n    </tr>\n    <tr>\n      <th>Horror</th>\n      <td>0.00</td>\n    </tr>\n    <tr>\n      <th>Mystery</th>\n      <td>0.00</td>\n    </tr>\n    <tr>\n      <th>Romance</th>\n      <td>0.00</td>\n    </tr>\n    <tr>\n      <th>Comedy</th>\n      <td>0.00</td>\n    </tr>\n    <tr>\n      <th>Film-Noir</th>\n      <td>0.00</td>\n    </tr>\n  </tbody>\n</table>\n</div>",
                        "text/plain": "             Weighted_ratings\nAction                   0.25\nSci-Fi                   0.25\nAdventure                0.25\nThriller                 0.16\nIMAX                     0.09\nCrime                    0.00\nWar                      0.00\nWestern                  0.00\nMusical                  0.00\nDocumentary              0.00\nAnimation                0.00\nChildren                 0.00\nDrama                    0.00\nFantasy                  0.00\nHorror                   0.00\nMystery                  0.00\nRomance                  0.00\nComedy                   0.00\nFilm-Noir                0.00"
                    },
                    "execution_count": 161,
                    "metadata": {},
                    "output_type": "execute_result"
                }
            ],
            "source": "df_user_profile=pd.DataFrame(usr_weighted_genres_norm.T, index=df_user_genres.columns, columns=['Weighted_ratings'])\ndf_user_profile.sort_values(by='Weighted_ratings', ascending=False)"
        },
        {
            "cell_type": "markdown",
            "metadata": {},
            "source": "#### Recommendation Table"
        },
        {
            "cell_type": "code",
            "execution_count": 162,
            "metadata": {},
            "outputs": [
                {
                    "data": {
                        "text/html": "<div>\n<style scoped>\n    .dataframe tbody tr th:only-of-type {\n        vertical-align: middle;\n    }\n\n    .dataframe tbody tr th {\n        vertical-align: top;\n    }\n\n    .dataframe thead th {\n        text-align: right;\n    }\n</style>\n<table border=\"1\" class=\"dataframe\">\n  <thead>\n    <tr style=\"text-align: right;\">\n      <th></th>\n      <th>Crime</th>\n      <th>Drama</th>\n      <th>Thriller</th>\n      <th>Action</th>\n      <th>Comedy</th>\n      <th>Romance</th>\n      <th>Mystery</th>\n      <th>Horror</th>\n      <th>Fantasy</th>\n      <th>Animation</th>\n      <th>Children</th>\n      <th>War</th>\n      <th>Adventure</th>\n      <th>Sci-Fi</th>\n      <th>Documentary</th>\n      <th>Musical</th>\n      <th>IMAX</th>\n      <th>Western</th>\n      <th>Film-Noir</th>\n    </tr>\n    <tr>\n      <th>Movie_Id</th>\n      <th></th>\n      <th></th>\n      <th></th>\n      <th></th>\n      <th></th>\n      <th></th>\n      <th></th>\n      <th></th>\n      <th></th>\n      <th></th>\n      <th></th>\n      <th></th>\n      <th></th>\n      <th></th>\n      <th></th>\n      <th></th>\n      <th></th>\n      <th></th>\n      <th></th>\n    </tr>\n  </thead>\n  <tbody>\n    <tr>\n      <th>4052</th>\n      <td>1.0</td>\n      <td>1.0</td>\n      <td>1.0</td>\n      <td>0.0</td>\n      <td>0.0</td>\n      <td>0.0</td>\n      <td>0.0</td>\n      <td>0.0</td>\n      <td>0.0</td>\n      <td>0.0</td>\n      <td>0.0</td>\n      <td>0.0</td>\n      <td>0.0</td>\n      <td>0.0</td>\n      <td>0.0</td>\n      <td>0.0</td>\n      <td>0.0</td>\n      <td>0.0</td>\n      <td>0.0</td>\n    </tr>\n    <tr>\n      <th>4053</th>\n      <td>0.0</td>\n      <td>0.0</td>\n      <td>0.0</td>\n      <td>1.0</td>\n      <td>1.0</td>\n      <td>0.0</td>\n      <td>0.0</td>\n      <td>0.0</td>\n      <td>0.0</td>\n      <td>0.0</td>\n      <td>0.0</td>\n      <td>0.0</td>\n      <td>0.0</td>\n      <td>0.0</td>\n      <td>0.0</td>\n      <td>0.0</td>\n      <td>0.0</td>\n      <td>0.0</td>\n      <td>0.0</td>\n    </tr>\n    <tr>\n      <th>4054</th>\n      <td>0.0</td>\n      <td>1.0</td>\n      <td>0.0</td>\n      <td>0.0</td>\n      <td>0.0</td>\n      <td>1.0</td>\n      <td>0.0</td>\n      <td>0.0</td>\n      <td>0.0</td>\n      <td>0.0</td>\n      <td>0.0</td>\n      <td>0.0</td>\n      <td>0.0</td>\n      <td>0.0</td>\n      <td>0.0</td>\n      <td>0.0</td>\n      <td>0.0</td>\n      <td>0.0</td>\n      <td>0.0</td>\n    </tr>\n    <tr>\n      <th>4056</th>\n      <td>1.0</td>\n      <td>1.0</td>\n      <td>1.0</td>\n      <td>0.0</td>\n      <td>0.0</td>\n      <td>0.0</td>\n      <td>1.0</td>\n      <td>0.0</td>\n      <td>0.0</td>\n      <td>0.0</td>\n      <td>0.0</td>\n      <td>0.0</td>\n      <td>0.0</td>\n      <td>0.0</td>\n      <td>0.0</td>\n      <td>0.0</td>\n      <td>0.0</td>\n      <td>0.0</td>\n      <td>0.0</td>\n    </tr>\n    <tr>\n      <th>4068</th>\n      <td>0.0</td>\n      <td>0.0</td>\n      <td>0.0</td>\n      <td>0.0</td>\n      <td>1.0</td>\n      <td>0.0</td>\n      <td>0.0</td>\n      <td>0.0</td>\n      <td>0.0</td>\n      <td>0.0</td>\n      <td>0.0</td>\n      <td>0.0</td>\n      <td>0.0</td>\n      <td>0.0</td>\n      <td>0.0</td>\n      <td>0.0</td>\n      <td>0.0</td>\n      <td>0.0</td>\n      <td>0.0</td>\n    </tr>\n  </tbody>\n</table>\n</div>",
                        "text/plain": "          Crime  Drama  Thriller  Action  Comedy  Romance  Mystery  Horror  \\\nMovie_Id                                                                     \n4052        1.0    1.0       1.0     0.0     0.0      0.0      0.0     0.0   \n4053        0.0    0.0       0.0     1.0     1.0      0.0      0.0     0.0   \n4054        0.0    1.0       0.0     0.0     0.0      1.0      0.0     0.0   \n4056        1.0    1.0       1.0     0.0     0.0      0.0      1.0     0.0   \n4068        0.0    0.0       0.0     0.0     1.0      0.0      0.0     0.0   \n\n          Fantasy  Animation  Children  War  Adventure  Sci-Fi  Documentary  \\\nMovie_Id                                                                      \n4052          0.0        0.0       0.0  0.0        0.0     0.0          0.0   \n4053          0.0        0.0       0.0  0.0        0.0     0.0          0.0   \n4054          0.0        0.0       0.0  0.0        0.0     0.0          0.0   \n4056          0.0        0.0       0.0  0.0        0.0     0.0          0.0   \n4068          0.0        0.0       0.0  0.0        0.0     0.0          0.0   \n\n          Musical  IMAX  Western  Film-Noir  \nMovie_Id                                     \n4052          0.0   0.0      0.0        0.0  \n4053          0.0   0.0      0.0        0.0  \n4054          0.0   0.0      0.0        0.0  \n4056          0.0   0.0      0.0        0.0  \n4068          0.0   0.0      0.0        0.0  "
                    },
                    "execution_count": 162,
                    "metadata": {},
                    "output_type": "execute_result"
                }
            ],
            "source": "# we need only transformed genre columns and everything else can be dropped\ndf_imdb_genres=df_imdb_transform.drop(['Year', 'Genres', 'Rating', 'Movie Title'], axis=1)\ndf_imdb_genres.set_index('Movie_Id', inplace=True)\ndf_imdb_genres.head()"
        },
        {
            "cell_type": "code",
            "execution_count": 163,
            "metadata": {},
            "outputs": [
                {
                    "data": {
                        "text/plain": "(15862, 19)"
                    },
                    "execution_count": 163,
                    "metadata": {},
                    "output_type": "execute_result"
                }
            ],
            "source": "# cleansed imdb dataframe dimensions\ndf_imdb_genres.shape"
        },
        {
            "cell_type": "markdown",
            "metadata": {},
            "source": "\nIn order to achieve the movies recommendation based on user profile, we must calculate the movies genre weighted matrix so that we can recommend the suitable movies to the user. So, let's multiply the user profile with imdb genres"
        },
        {
            "cell_type": "code",
            "execution_count": 164,
            "metadata": {},
            "outputs": [],
            "source": "imdb_genres_agg= (df_user_profile.values.T * df_imdb_genres).sum(axis=1)\n\n# consider the top 20 rows\ndf_recomm_table=imdb_genres_agg.sort_values(ascending=False).head(20)"
        },
        {
            "cell_type": "code",
            "execution_count": 165,
            "metadata": {},
            "outputs": [
                {
                    "data": {
                        "text/plain": "Movie_Id\n52722     1.0\n101076    1.0\n77561     1.0\n6365      1.0\n6934      1.0\n5264      0.9\n70336     0.9\n66639     0.9\n8361      0.9\n96200     0.9\n61350     0.9\n27618     0.9\n91500     0.9\n133759    0.9\n68791     0.9\n4638      0.9\n122882    0.9\n116758    0.9\n141385    0.9\n4781      0.9\ndtype: float64"
                    },
                    "execution_count": 165,
                    "metadata": {},
                    "output_type": "execute_result"
                }
            ],
            "source": "# display the recommendation dataframe that shows movie ID's\ndf_recomm_table.round(1)"
        },
        {
            "cell_type": "markdown",
            "metadata": {},
            "source": "\nNow we need to extract those above top movies based on key i.e. movie ID and at the same time we must ignore the movies that user had already watched."
        },
        {
            "cell_type": "code",
            "execution_count": 166,
            "metadata": {},
            "outputs": [],
            "source": "imdb_filter=df_imdb_raw['Movie_Id'].isin(df_recomm_table.index) \nexc_usr_movies=~df_imdb_raw['Movie_Id'].isin(df_user_movies['Movie_Id'])\ndf_recom_movies=df_imdb_raw[imdb_filter & exc_usr_movies].sort_values(by=['Rating'], ascending=False)"
        },
        {
            "cell_type": "markdown",
            "metadata": {},
            "source": "### Final result: Recommended Movies"
        },
        {
            "cell_type": "code",
            "execution_count": 167,
            "metadata": {},
            "outputs": [
                {
                    "data": {
                        "text/html": "<div>\n<style scoped>\n    .dataframe tbody tr th:only-of-type {\n        vertical-align: middle;\n    }\n\n    .dataframe tbody tr th {\n        vertical-align: top;\n    }\n\n    .dataframe thead th {\n        text-align: right;\n    }\n</style>\n<table border=\"1\" class=\"dataframe\">\n  <thead>\n    <tr style=\"text-align: right;\">\n      <th></th>\n      <th>Title</th>\n      <th>Genres</th>\n      <th>Rating</th>\n    </tr>\n  </thead>\n  <tbody>\n    <tr>\n      <th>11596</th>\n      <td>Mad Max: Fury Road</td>\n      <td>Action, Adventure, Sci-Fi, Thriller</td>\n      <td>3.9</td>\n    </tr>\n    <tr>\n      <th>4900</th>\n      <td>Iron Man 2</td>\n      <td>Action, Adventure, Sci-Fi, Thriller, IMAX</td>\n      <td>3.6</td>\n    </tr>\n    <tr>\n      <th>6650</th>\n      <td>Hunger Games, The</td>\n      <td>Action, Adventure, Drama, Sci-Fi, Thriller</td>\n      <td>3.6</td>\n    </tr>\n    <tr>\n      <th>4086</th>\n      <td>Terminator Salvation</td>\n      <td>Action, Adventure, Sci-Fi, Thriller</td>\n      <td>3.2</td>\n    </tr>\n    <tr>\n      <th>14542</th>\n      <td>Humanity's End</td>\n      <td>Action, Adventure, Drama, Sci-Fi, Thriller</td>\n      <td>3.2</td>\n    </tr>\n    <tr>\n      <th>877</th>\n      <td>Matrix Revolutions, The</td>\n      <td>Action, Adventure, Sci-Fi, Thriller, IMAX</td>\n      <td>3.2</td>\n    </tr>\n    <tr>\n      <th>2779</th>\n      <td>Spider-Man 3</td>\n      <td>Action, Adventure, Sci-Fi, Thriller, IMAX</td>\n      <td>3.0</td>\n    </tr>\n    <tr>\n      <th>1088</th>\n      <td>Day After Tomorrow, The</td>\n      <td>Action, Adventure, Drama, Sci-Fi, Thriller</td>\n      <td>3.0</td>\n    </tr>\n    <tr>\n      <th>3605</th>\n      <td>Babylon A.D.</td>\n      <td>Action, Adventure, Sci-Fi, Thriller</td>\n      <td>2.9</td>\n    </tr>\n    <tr>\n      <th>13072</th>\n      <td>Eyeborgs</td>\n      <td>Action, Adventure, Sci-Fi, Thriller</td>\n      <td>2.9</td>\n    </tr>\n  </tbody>\n</table>\n</div>",
                        "text/plain": "                         Title                                      Genres  \\\n11596       Mad Max: Fury Road         Action, Adventure, Sci-Fi, Thriller   \n4900                Iron Man 2   Action, Adventure, Sci-Fi, Thriller, IMAX   \n6650         Hunger Games, The  Action, Adventure, Drama, Sci-Fi, Thriller   \n4086      Terminator Salvation         Action, Adventure, Sci-Fi, Thriller   \n14542           Humanity's End  Action, Adventure, Drama, Sci-Fi, Thriller   \n877    Matrix Revolutions, The   Action, Adventure, Sci-Fi, Thriller, IMAX   \n2779              Spider-Man 3   Action, Adventure, Sci-Fi, Thriller, IMAX   \n1088   Day After Tomorrow, The  Action, Adventure, Drama, Sci-Fi, Thriller   \n3605              Babylon A.D.         Action, Adventure, Sci-Fi, Thriller   \n13072                 Eyeborgs         Action, Adventure, Sci-Fi, Thriller   \n\n       Rating  \n11596     3.9  \n4900      3.6  \n6650      3.6  \n4086      3.2  \n14542     3.2  \n877       3.2  \n2779      3.0  \n1088      3.0  \n3605      2.9  \n13072     2.9  "
                    },
                    "execution_count": 167,
                    "metadata": {},
                    "output_type": "execute_result"
                }
            ],
            "source": "df_recom_movies[['Title', 'Genres', 'Rating']].head(10)"
        },
        {
            "cell_type": "markdown",
            "metadata": {},
            "source": "### Advantages and Disadvantages of Content-Based Filtering\n\n##### Advantages\n* Learns user's preferences\n* Highly personalized for the user\n\n##### Disadvantages\n* Doesn't take into account what others think of the item, so low quality item recommendations might happen\n* Extracting data is not always intuitive\n* Determining what characteristics of the item the user dislikes or likes is not always obvious"
        },
        {
            "cell_type": "code",
            "execution_count": null,
            "metadata": {},
            "outputs": [],
            "source": ""
        }
    ],
    "metadata": {
        "kernelspec": {
            "display_name": "Python",
            "language": "python",
            "name": "conda-env-python-py"
        },
        "language_info": {
            "codemirror_mode": {
                "name": "ipython",
                "version": 3
            },
            "file_extension": ".py",
            "mimetype": "text/x-python",
            "name": "python",
            "nbconvert_exporter": "python",
            "pygments_lexer": "ipython3",
            "version": "3.6.7"
        }
    },
    "nbformat": 4,
    "nbformat_minor": 4
}