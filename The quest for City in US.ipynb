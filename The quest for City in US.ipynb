{
    "cells": [
        {
            "cell_type": "markdown",
            "metadata": {
                "collapsed": true
            },
            "source": "# The Quest for City in US"
        },
        {
            "cell_type": "markdown",
            "metadata": {},
            "source": "### Background"
        },
        {
            "cell_type": "markdown",
            "metadata": {},
            "source": "A multi national resturant chain is planning to expand their business in United states. The stakeholders (or) group of investors are interested to open a branch in one of the main cities in United states, but they don't have enough information about which city/location could be the suitable for their business. \n\nHere the target audience is ofcourse the group of investors who needs extensive data report to solve thier business question at hand. Investors know the facts about developed country that generates significant revenue:\n\n* Fourth largest area in the world.\n* Third largest in population.\n* Country with high gross domestic product (GDP) per capita"
        },
        {
            "cell_type": "markdown",
            "metadata": {},
            "source": "### Introduction: Business Problem"
        },
        {
            "cell_type": "markdown",
            "metadata": {},
            "source": "This project will try to find possibly the best city in United States to open a resturant as stakeholders wants to extend their business anywhere in US.\n\nObjective is to find and select the center of city where there are no such resturants in 2 mi radius. Another favourable factor for a resturtant business is a high densely populated city center."
        },
        {
            "cell_type": "markdown",
            "metadata": {},
            "source": "### Data description"
        },
        {
            "cell_type": "markdown",
            "metadata": {},
            "source": "Datasets needed to solve the problem:\n\n1. Details of largest population cities in US by 2020 - http://worldpopulationreview.com/countries/united-states-population/cities/ (Website has the details of 200 largest cities in the united states by population). However top 50 cities by rank will be considered for this problem scenario. (**Ex**: New York City | 8,175,133 | https://www.google.com/maps/?q=40.71427,-74.00597)\n\n\n2. City center coordinates (City map link has been included in the dataset as one of the column. Using some user defined function in python, latitude and longitude of city location need to be extracted. \n(**Ex**: https://www.google.com/maps/?q=<u>**40.71427,-74.00597**<u/>)\n\n\n3. Foursqare API to retreive near by venues from the centre of city.\n\nBelow are the main factors model will concentrate on:\n\n* Number of existing resturants in city with in 2 mi radius.\n* Population of the city"
        },
        {
            "cell_type": "code",
            "execution_count": null,
            "metadata": {},
            "outputs": [],
            "source": ""
        }
    ],
    "metadata": {
        "kernelspec": {
            "display_name": "Python 3.6",
            "language": "python",
            "name": "python3"
        },
        "language_info": {
            "codemirror_mode": {
                "name": "ipython",
                "version": 3
            },
            "file_extension": ".py",
            "mimetype": "text/x-python",
            "name": "python",
            "nbconvert_exporter": "python",
            "pygments_lexer": "ipython3",
            "version": "3.6.8"
        }
    },
    "nbformat": 4,
    "nbformat_minor": 1
}