{
 "cells": [
  {
   "cell_type": "code",
   "execution_count": 1,
   "metadata": {},
   "outputs": [],
   "source": [
    "# Load required python libraries\n",
    "\n",
    "import pandas as pd\n",
    "import numpy as np\n",
    "import math\n",
    "import matplotlib.pyplot as plt\n",
    "import seaborn as sns\n",
    "\n",
    "from sklearn.model_selection import train_test_split\n",
    "from sklearn.preprocessing import StandardScaler\n",
    "from sklearn.linear_model import LinearRegression\n",
    "sns.set()"
   ]
  },
  {
   "cell_type": "markdown",
   "metadata": {},
   "source": [
    "## I. Data Collection"
   ]
  },
  {
   "cell_type": "markdown",
   "metadata": {},
   "source": [
    "Read the raw data from CSV file and load into pandas dataframe"
   ]
  },
  {
   "cell_type": "code",
   "execution_count": 2,
   "metadata": {},
   "outputs": [
    {
     "data": {
      "text/html": [
       "<div>\n",
       "<style scoped>\n",
       "    .dataframe tbody tr th:only-of-type {\n",
       "        vertical-align: middle;\n",
       "    }\n",
       "\n",
       "    .dataframe tbody tr th {\n",
       "        vertical-align: top;\n",
       "    }\n",
       "\n",
       "    .dataframe thead th {\n",
       "        text-align: right;\n",
       "    }\n",
       "</style>\n",
       "<table border=\"1\" class=\"dataframe\">\n",
       "  <thead>\n",
       "    <tr style=\"text-align: right;\">\n",
       "      <th></th>\n",
       "      <th>Cost</th>\n",
       "      <th>Weight</th>\n",
       "      <th>Weight1</th>\n",
       "      <th>Length</th>\n",
       "      <th>Height</th>\n",
       "      <th>Width</th>\n",
       "    </tr>\n",
       "  </thead>\n",
       "  <tbody>\n",
       "    <tr>\n",
       "      <th>0</th>\n",
       "      <td>242.0</td>\n",
       "      <td>23.2</td>\n",
       "      <td>25.4</td>\n",
       "      <td>30.0</td>\n",
       "      <td>11.5200</td>\n",
       "      <td>4.0200</td>\n",
       "    </tr>\n",
       "    <tr>\n",
       "      <th>1</th>\n",
       "      <td>290.0</td>\n",
       "      <td>24.0</td>\n",
       "      <td>26.3</td>\n",
       "      <td>31.2</td>\n",
       "      <td>12.4800</td>\n",
       "      <td>4.3056</td>\n",
       "    </tr>\n",
       "    <tr>\n",
       "      <th>2</th>\n",
       "      <td>340.0</td>\n",
       "      <td>23.9</td>\n",
       "      <td>26.5</td>\n",
       "      <td>31.1</td>\n",
       "      <td>12.3778</td>\n",
       "      <td>4.6961</td>\n",
       "    </tr>\n",
       "    <tr>\n",
       "      <th>3</th>\n",
       "      <td>363.0</td>\n",
       "      <td>26.3</td>\n",
       "      <td>29.0</td>\n",
       "      <td>33.5</td>\n",
       "      <td>12.7300</td>\n",
       "      <td>4.4555</td>\n",
       "    </tr>\n",
       "    <tr>\n",
       "      <th>4</th>\n",
       "      <td>430.0</td>\n",
       "      <td>26.5</td>\n",
       "      <td>29.0</td>\n",
       "      <td>34.0</td>\n",
       "      <td>12.4440</td>\n",
       "      <td>5.1340</td>\n",
       "    </tr>\n",
       "  </tbody>\n",
       "</table>\n",
       "</div>"
      ],
      "text/plain": [
       "    Cost  Weight  Weight1  Length   Height   Width\n",
       "0  242.0    23.2     25.4    30.0  11.5200  4.0200\n",
       "1  290.0    24.0     26.3    31.2  12.4800  4.3056\n",
       "2  340.0    23.9     26.5    31.1  12.3778  4.6961\n",
       "3  363.0    26.3     29.0    33.5  12.7300  4.4555\n",
       "4  430.0    26.5     29.0    34.0  12.4440  5.1340"
      ]
     },
     "execution_count": 2,
     "metadata": {},
     "output_type": "execute_result"
    }
   ],
   "source": [
    "df_lbag_raw=pd.read_csv('Data_miniproject.csv');\n",
    "df_lbag_raw.head()"
   ]
  },
  {
   "cell_type": "code",
   "execution_count": 3,
   "metadata": {},
   "outputs": [
    {
     "name": "stdout",
     "output_type": "stream",
     "text": [
      "Number of Rows: 159\n",
      "Number of Columns: 6\n"
     ]
    }
   ],
   "source": [
    "# Display no of rows and columns in a given input dataset\n",
    "rows, cols = df_lbag_raw.shape\n",
    "\n",
    "print (\"Number of Rows:\", rows)\n",
    "print (\"Number of Columns:\", cols)"
   ]
  },
  {
   "cell_type": "markdown",
   "metadata": {},
   "source": [
    "## II. Exploratory Data Anlaysis"
   ]
  },
  {
   "cell_type": "markdown",
   "metadata": {},
   "source": [
    "Rename the column 'Weight1' to 'Exp_weight' (expanded weight)"
   ]
  },
  {
   "cell_type": "code",
   "execution_count": 4,
   "metadata": {},
   "outputs": [
    {
     "data": {
      "text/html": [
       "<div>\n",
       "<style scoped>\n",
       "    .dataframe tbody tr th:only-of-type {\n",
       "        vertical-align: middle;\n",
       "    }\n",
       "\n",
       "    .dataframe tbody tr th {\n",
       "        vertical-align: top;\n",
       "    }\n",
       "\n",
       "    .dataframe thead th {\n",
       "        text-align: right;\n",
       "    }\n",
       "</style>\n",
       "<table border=\"1\" class=\"dataframe\">\n",
       "  <thead>\n",
       "    <tr style=\"text-align: right;\">\n",
       "      <th></th>\n",
       "      <th>Cost</th>\n",
       "      <th>Weight</th>\n",
       "      <th>Exp_weight</th>\n",
       "      <th>Length</th>\n",
       "      <th>Height</th>\n",
       "      <th>Width</th>\n",
       "    </tr>\n",
       "  </thead>\n",
       "  <tbody>\n",
       "    <tr>\n",
       "      <th>0</th>\n",
       "      <td>242.0</td>\n",
       "      <td>23.2</td>\n",
       "      <td>25.4</td>\n",
       "      <td>30.0</td>\n",
       "      <td>11.5200</td>\n",
       "      <td>4.0200</td>\n",
       "    </tr>\n",
       "    <tr>\n",
       "      <th>1</th>\n",
       "      <td>290.0</td>\n",
       "      <td>24.0</td>\n",
       "      <td>26.3</td>\n",
       "      <td>31.2</td>\n",
       "      <td>12.4800</td>\n",
       "      <td>4.3056</td>\n",
       "    </tr>\n",
       "    <tr>\n",
       "      <th>2</th>\n",
       "      <td>340.0</td>\n",
       "      <td>23.9</td>\n",
       "      <td>26.5</td>\n",
       "      <td>31.1</td>\n",
       "      <td>12.3778</td>\n",
       "      <td>4.6961</td>\n",
       "    </tr>\n",
       "    <tr>\n",
       "      <th>3</th>\n",
       "      <td>363.0</td>\n",
       "      <td>26.3</td>\n",
       "      <td>29.0</td>\n",
       "      <td>33.5</td>\n",
       "      <td>12.7300</td>\n",
       "      <td>4.4555</td>\n",
       "    </tr>\n",
       "    <tr>\n",
       "      <th>4</th>\n",
       "      <td>430.0</td>\n",
       "      <td>26.5</td>\n",
       "      <td>29.0</td>\n",
       "      <td>34.0</td>\n",
       "      <td>12.4440</td>\n",
       "      <td>5.1340</td>\n",
       "    </tr>\n",
       "  </tbody>\n",
       "</table>\n",
       "</div>"
      ],
      "text/plain": [
       "    Cost  Weight  Exp_weight  Length   Height   Width\n",
       "0  242.0    23.2        25.4    30.0  11.5200  4.0200\n",
       "1  290.0    24.0        26.3    31.2  12.4800  4.3056\n",
       "2  340.0    23.9        26.5    31.1  12.3778  4.6961\n",
       "3  363.0    26.3        29.0    33.5  12.7300  4.4555\n",
       "4  430.0    26.5        29.0    34.0  12.4440  5.1340"
      ]
     },
     "execution_count": 4,
     "metadata": {},
     "output_type": "execute_result"
    }
   ],
   "source": [
    "df_lbag_raw.rename(columns={'Weight1':'Exp_weight'}, inplace=True)\n",
    "df_lbag_raw.head()"
   ]
  },
  {
   "cell_type": "markdown",
   "metadata": {},
   "source": [
    "#### <u>**Data type check**</u>"
   ]
  },
  {
   "cell_type": "code",
   "execution_count": 5,
   "metadata": {},
   "outputs": [
    {
     "data": {
      "text/plain": [
       "Cost          float64\n",
       "Weight        float64\n",
       "Exp_weight    float64\n",
       "Length        float64\n",
       "Height        float64\n",
       "Width         float64\n",
       "dtype: object"
      ]
     },
     "execution_count": 5,
     "metadata": {},
     "output_type": "execute_result"
    }
   ],
   "source": [
    "df_lbag_raw.dtypes"
   ]
  },
  {
   "cell_type": "markdown",
   "metadata": {},
   "source": [
    "Since no categorical varaibles are present, no need to set \"include all\" in describe function to see all variable stats."
   ]
  },
  {
   "cell_type": "code",
   "execution_count": 6,
   "metadata": {},
   "outputs": [
    {
     "data": {
      "text/html": [
       "<div>\n",
       "<style scoped>\n",
       "    .dataframe tbody tr th:only-of-type {\n",
       "        vertical-align: middle;\n",
       "    }\n",
       "\n",
       "    .dataframe tbody tr th {\n",
       "        vertical-align: top;\n",
       "    }\n",
       "\n",
       "    .dataframe thead th {\n",
       "        text-align: right;\n",
       "    }\n",
       "</style>\n",
       "<table border=\"1\" class=\"dataframe\">\n",
       "  <thead>\n",
       "    <tr style=\"text-align: right;\">\n",
       "      <th></th>\n",
       "      <th>Cost</th>\n",
       "      <th>Weight</th>\n",
       "      <th>Exp_weight</th>\n",
       "      <th>Length</th>\n",
       "      <th>Height</th>\n",
       "      <th>Width</th>\n",
       "    </tr>\n",
       "  </thead>\n",
       "  <tbody>\n",
       "    <tr>\n",
       "      <th>count</th>\n",
       "      <td>159.000000</td>\n",
       "      <td>159.000000</td>\n",
       "      <td>159.000000</td>\n",
       "      <td>159.000000</td>\n",
       "      <td>159.000000</td>\n",
       "      <td>159.000000</td>\n",
       "    </tr>\n",
       "    <tr>\n",
       "      <th>mean</th>\n",
       "      <td>398.326415</td>\n",
       "      <td>26.247170</td>\n",
       "      <td>28.415723</td>\n",
       "      <td>31.227044</td>\n",
       "      <td>8.970994</td>\n",
       "      <td>4.417486</td>\n",
       "    </tr>\n",
       "    <tr>\n",
       "      <th>std</th>\n",
       "      <td>357.978317</td>\n",
       "      <td>9.996441</td>\n",
       "      <td>10.716328</td>\n",
       "      <td>11.610246</td>\n",
       "      <td>4.286208</td>\n",
       "      <td>1.685804</td>\n",
       "    </tr>\n",
       "    <tr>\n",
       "      <th>min</th>\n",
       "      <td>0.000000</td>\n",
       "      <td>7.500000</td>\n",
       "      <td>8.400000</td>\n",
       "      <td>8.800000</td>\n",
       "      <td>1.728400</td>\n",
       "      <td>1.047600</td>\n",
       "    </tr>\n",
       "    <tr>\n",
       "      <th>25%</th>\n",
       "      <td>120.000000</td>\n",
       "      <td>19.050000</td>\n",
       "      <td>21.000000</td>\n",
       "      <td>23.150000</td>\n",
       "      <td>5.944800</td>\n",
       "      <td>3.385650</td>\n",
       "    </tr>\n",
       "    <tr>\n",
       "      <th>50%</th>\n",
       "      <td>273.000000</td>\n",
       "      <td>25.200000</td>\n",
       "      <td>27.300000</td>\n",
       "      <td>29.400000</td>\n",
       "      <td>7.786000</td>\n",
       "      <td>4.248500</td>\n",
       "    </tr>\n",
       "    <tr>\n",
       "      <th>75%</th>\n",
       "      <td>650.000000</td>\n",
       "      <td>32.700000</td>\n",
       "      <td>35.500000</td>\n",
       "      <td>39.650000</td>\n",
       "      <td>12.365900</td>\n",
       "      <td>5.584500</td>\n",
       "    </tr>\n",
       "    <tr>\n",
       "      <th>max</th>\n",
       "      <td>1650.000000</td>\n",
       "      <td>59.000000</td>\n",
       "      <td>63.400000</td>\n",
       "      <td>68.000000</td>\n",
       "      <td>18.957000</td>\n",
       "      <td>8.142000</td>\n",
       "    </tr>\n",
       "  </tbody>\n",
       "</table>\n",
       "</div>"
      ],
      "text/plain": [
       "              Cost      Weight  Exp_weight      Length      Height       Width\n",
       "count   159.000000  159.000000  159.000000  159.000000  159.000000  159.000000\n",
       "mean    398.326415   26.247170   28.415723   31.227044    8.970994    4.417486\n",
       "std     357.978317    9.996441   10.716328   11.610246    4.286208    1.685804\n",
       "min       0.000000    7.500000    8.400000    8.800000    1.728400    1.047600\n",
       "25%     120.000000   19.050000   21.000000   23.150000    5.944800    3.385650\n",
       "50%     273.000000   25.200000   27.300000   29.400000    7.786000    4.248500\n",
       "75%     650.000000   32.700000   35.500000   39.650000   12.365900    5.584500\n",
       "max    1650.000000   59.000000   63.400000   68.000000   18.957000    8.142000"
      ]
     },
     "execution_count": 6,
     "metadata": {},
     "output_type": "execute_result"
    }
   ],
   "source": [
    "df_lbag_raw.describe()"
   ]
  },
  {
   "cell_type": "markdown",
   "metadata": {},
   "source": [
    "#### <u>**Null check**</u>"
   ]
  },
  {
   "cell_type": "code",
   "execution_count": 7,
   "metadata": {},
   "outputs": [
    {
     "data": {
      "text/plain": [
       "Cost          0\n",
       "Weight        0\n",
       "Exp_weight    0\n",
       "Length        0\n",
       "Height        0\n",
       "Width         0\n",
       "dtype: int64"
      ]
     },
     "execution_count": 7,
     "metadata": {},
     "output_type": "execute_result"
    }
   ],
   "source": [
    "# check the numbers of null or NaN values column wise\n",
    "df_lbag_raw.isnull().sum()"
   ]
  },
  {
   "cell_type": "markdown",
   "metadata": {},
   "source": [
    "None of the columns have null or Nan values. we can proceed with this dataset further without deleting any records"
   ]
  },
  {
   "cell_type": "markdown",
   "metadata": {},
   "source": [
    "#### <u>**Correlations**</u>"
   ]
  },
  {
   "cell_type": "code",
   "execution_count": 8,
   "metadata": {},
   "outputs": [
    {
     "data": {
      "text/plain": [
       "Length        0.92\n",
       "Exp_weight    0.92\n",
       "Weight        0.92\n",
       "Width         0.89\n",
       "Height        0.72\n",
       "Name: Cost, dtype: float64"
      ]
     },
     "execution_count": 8,
     "metadata": {},
     "output_type": "execute_result"
    }
   ],
   "source": [
    "df_corr=df_lbag_raw.corr()\n",
    "\n",
    "# Excluding the target variable as there is no need to check the self correlation \n",
    "filter = df_corr['Cost'].index != 'Cost' \n",
    "df_corr=df_corr['Cost'][ filter ]\n",
    "\n",
    "# Sorting the variables by correlation values in descending order\n",
    "df_corr.sort_values(ascending=False).round(2)"
   ]
  },
  {
   "cell_type": "markdown",
   "metadata": {},
   "source": [
    "#### <u>**Correlations Heatmap**</u>"
   ]
  },
  {
   "cell_type": "code",
   "execution_count": 9,
   "metadata": {},
   "outputs": [
    {
     "data": {
      "image/png": "[encoded data removed]",
      "text/plain": [
       "<Figure size 432x432 with 2 Axes>"
      ]
     },
     "metadata": {
      "needs_background": "light"
     },
     "output_type": "display_data"
    }
   ],
   "source": [
    "plt.figure(figsize=(6,6))\n",
    "sns.heatmap(df_lbag_raw.corr(), annot=True, cmap='YlGnBu')\n",
    "plt.show()"
   ]
  },
  {
   "cell_type": "code",
   "execution_count": 10,
   "metadata": {},
   "outputs": [
    {
     "data": {
      "image/png": "[encoded data removed]",
      "text/plain": [
       "<Figure size 1080x360 with 3 Axes>"
      ]
     },
     "metadata": {
      "needs_background": "light"
     },
     "output_type": "display_data"
    }
   ],
   "source": [
    "# Regplot for bag dimensions (i.e. lenght, width, heigth) as we know that they are dependent on each other\n",
    "fig, ax=plt.subplots(1, 3, figsize=(15,5))\n",
    "sns.regplot(x='Length', y='Cost', data=df_lbag_raw, ax=ax[0], color='g')\n",
    "sns.regplot(x='Width', y='Cost', data=df_lbag_raw, ax=ax[1], color='b')\n",
    "sns.regplot(x='Height', y='Cost', data=df_lbag_raw, ax=ax[2], color='peru')\n",
    "plt.show()"
   ]
  },
  {
   "cell_type": "markdown",
   "metadata": {},
   "source": [
    "As expected, above scatter/reg plots show that two dimensions (i.e. length & width) are similarly varying with target/dependent variable i.e. \"Cost\". Also we can observe that the relation is not linear."
   ]
  },
  {
   "cell_type": "code",
   "execution_count": 11,
   "metadata": {},
   "outputs": [
    {
     "data": {
      "text/plain": [
       "0    120.60000\n",
       "1    134.33472\n",
       "2    146.04871\n",
       "3    149.25925\n",
       "4    174.55600\n",
       "dtype: float64"
      ]
     },
     "execution_count": 11,
     "metadata": {},
     "output_type": "execute_result"
    }
   ],
   "source": [
    "# Lets merge it into one varaible i.e. say Area = Length * Width\n",
    "lbag_Area=df_lbag_raw['Length']*df_lbag_raw['Width']\n",
    "lbag_Area.head()"
   ]
  },
  {
   "cell_type": "code",
   "execution_count": 12,
   "metadata": {},
   "outputs": [
    {
     "data": {
      "text/html": [
       "<div>\n",
       "<style scoped>\n",
       "    .dataframe tbody tr th:only-of-type {\n",
       "        vertical-align: middle;\n",
       "    }\n",
       "\n",
       "    .dataframe tbody tr th {\n",
       "        vertical-align: top;\n",
       "    }\n",
       "\n",
       "    .dataframe thead th {\n",
       "        text-align: right;\n",
       "    }\n",
       "</style>\n",
       "<table border=\"1\" class=\"dataframe\">\n",
       "  <thead>\n",
       "    <tr style=\"text-align: right;\">\n",
       "      <th></th>\n",
       "      <th>Cost</th>\n",
       "      <th>Weight</th>\n",
       "      <th>Exp_weight</th>\n",
       "      <th>Length</th>\n",
       "      <th>Height</th>\n",
       "      <th>Width</th>\n",
       "      <th>Area</th>\n",
       "    </tr>\n",
       "  </thead>\n",
       "  <tbody>\n",
       "    <tr>\n",
       "      <th>0</th>\n",
       "      <td>242.0</td>\n",
       "      <td>23.2</td>\n",
       "      <td>25.4</td>\n",
       "      <td>30.0</td>\n",
       "      <td>11.5200</td>\n",
       "      <td>4.0200</td>\n",
       "      <td>120.60000</td>\n",
       "    </tr>\n",
       "    <tr>\n",
       "      <th>1</th>\n",
       "      <td>290.0</td>\n",
       "      <td>24.0</td>\n",
       "      <td>26.3</td>\n",
       "      <td>31.2</td>\n",
       "      <td>12.4800</td>\n",
       "      <td>4.3056</td>\n",
       "      <td>134.33472</td>\n",
       "    </tr>\n",
       "    <tr>\n",
       "      <th>2</th>\n",
       "      <td>340.0</td>\n",
       "      <td>23.9</td>\n",
       "      <td>26.5</td>\n",
       "      <td>31.1</td>\n",
       "      <td>12.3778</td>\n",
       "      <td>4.6961</td>\n",
       "      <td>146.04871</td>\n",
       "    </tr>\n",
       "    <tr>\n",
       "      <th>3</th>\n",
       "      <td>363.0</td>\n",
       "      <td>26.3</td>\n",
       "      <td>29.0</td>\n",
       "      <td>33.5</td>\n",
       "      <td>12.7300</td>\n",
       "      <td>4.4555</td>\n",
       "      <td>149.25925</td>\n",
       "    </tr>\n",
       "    <tr>\n",
       "      <th>4</th>\n",
       "      <td>430.0</td>\n",
       "      <td>26.5</td>\n",
       "      <td>29.0</td>\n",
       "      <td>34.0</td>\n",
       "      <td>12.4440</td>\n",
       "      <td>5.1340</td>\n",
       "      <td>174.55600</td>\n",
       "    </tr>\n",
       "  </tbody>\n",
       "</table>\n",
       "</div>"
      ],
      "text/plain": [
       "    Cost  Weight  Exp_weight  Length   Height   Width       Area\n",
       "0  242.0    23.2        25.4    30.0  11.5200  4.0200  120.60000\n",
       "1  290.0    24.0        26.3    31.2  12.4800  4.3056  134.33472\n",
       "2  340.0    23.9        26.5    31.1  12.3778  4.6961  146.04871\n",
       "3  363.0    26.3        29.0    33.5  12.7300  4.4555  149.25925\n",
       "4  430.0    26.5        29.0    34.0  12.4440  5.1340  174.55600"
      ]
     },
     "execution_count": 12,
     "metadata": {},
     "output_type": "execute_result"
    }
   ],
   "source": [
    "# Add the above derived Area to the dataframe\n",
    "\n",
    "df_lbag_trnsf=pd.concat([df_lbag_raw, lbag_Area.rename('Area')], axis=1)\n",
    "df_lbag_trnsf.head()"
   ]
  },
  {
   "cell_type": "code",
   "execution_count": 13,
   "metadata": {},
   "outputs": [
    {
     "data": {
      "image/png": "[encoded data removed]",
      "text/plain": [
       "<Figure size 432x288 with 1 Axes>"
      ]
     },
     "metadata": {
      "needs_background": "light"
     },
     "output_type": "display_data"
    }
   ],
   "source": [
    "# Regplot for 'Area' and 'Cost' variable\n",
    "\n",
    "sns.regplot(x='Area', y='Cost', data=df_lbag_trnsf)\n",
    "plt.show()"
   ]
  },
  {
   "cell_type": "code",
   "execution_count": 14,
   "metadata": {},
   "outputs": [
    {
     "data": {
      "image/png": "[encoded data removed]",
      "text/plain": [
       "<Figure size 720x360 with 2 Axes>"
      ]
     },
     "metadata": {
      "needs_background": "light"
     },
     "output_type": "display_data"
    }
   ],
   "source": [
    "# Distribution & Box plot for 'Area'\n",
    "\n",
    "fig, ax =plt.subplots(1, 2, figsize=(10,5))\n",
    "sns.distplot(df_lbag_trnsf['Area'], bins=4, ax=ax[0], color='m')\n",
    "sns.boxplot(df_lbag_trnsf['Area'], ax=ax[1], color='c')\n",
    "plt.show()"
   ]
  },
  {
   "cell_type": "markdown",
   "metadata": {},
   "source": [
    "Let's create a function to get the outlier stats of a variable. Both 99 & 95 quantiles have been considered just to analyze number of outliers so that we can decide which quantile value should be considered for dropping the ouliers with minimal impact"
   ]
  },
  {
   "cell_type": "code",
   "execution_count": 15,
   "metadata": {},
   "outputs": [],
   "source": [
    "def outlier_stats(s_feature):\n",
    "    \n",
    "    # 99 & 95 quantile values of given feature\n",
    "    p99=s_feature.quantile(q=.99)\n",
    "    p95=s_feature.quantile(q=.95)\n",
    "\n",
    "    # no. of values outside the quantiles range \n",
    "    outlier99=s_feature[s_feature > p99].shape[0]\n",
    "    outlier95=s_feature[s_feature > p95].shape[0]\n",
    "    \n",
    "    # total no. of rows in our dataset\n",
    "    rows=s_feature.shape[0]\n",
    "\n",
    "    print (\"With 99% quantile: {} out of {} are outliers\".format(outlier99, rows, outlier99/rows))\n",
    "    print (\"With 95% quantile: {} out of {} are outliers\".format(outlier95, rows, outlier95/rows))"
   ]
  },
  {
   "cell_type": "code",
   "execution_count": 16,
   "metadata": {},
   "outputs": [
    {
     "name": "stdout",
     "output_type": "stream",
     "text": [
      "With 99% quantile: 2 out of 159 are outliers\n",
      "With 95% quantile: 8 out of 159 are outliers\n"
     ]
    }
   ],
   "source": [
    "# Let's call the function for 'Area' feature\n",
    "\n",
    "outlier_stats(df_lbag_trnsf['Area'])"
   ]
  },
  {
   "cell_type": "code",
   "execution_count": 17,
   "metadata": {},
   "outputs": [],
   "source": [
    "# We will discard the outliers that exceeds 99% quantile range\n",
    "\n",
    "q=df_lbag_trnsf['Area'].quantile(.99)\n",
    "df_lbag_trnsf = df_lbag_trnsf[ df_lbag_trnsf['Area'] < q ]"
   ]
  },
  {
   "cell_type": "code",
   "execution_count": 18,
   "metadata": {},
   "outputs": [
    {
     "data": {
      "image/png": "[encoded data removed]",
      "text/plain": [
       "<Figure size 432x288 with 1 Axes>"
      ]
     },
     "metadata": {
      "needs_background": "light"
     },
     "output_type": "display_data"
    }
   ],
   "source": [
    "# Let's plot the Histogram for Area feature\n",
    "\n",
    "n, bins, _ = plt.hist(df_lbag_trnsf['Area'], bins=10, color='indianred')\n",
    "#plt.xticks(np.round_(bins,0))\n",
    "plt.xlabel('Area')\n",
    "plt.ylabel('Frequency')\n",
    "plt.show()"
   ]
  },
  {
   "cell_type": "code",
   "execution_count": 19,
   "metadata": {},
   "outputs": [
    {
     "data": {
      "image/png": "[encoded data removed]",
      "text/plain": [
       "<Figure size 720x360 with 2 Axes>"
      ]
     },
     "metadata": {
      "needs_background": "light"
     },
     "output_type": "display_data"
    }
   ],
   "source": [
    "# Distribution & Box plot for 'Height'\n",
    "\n",
    "fig, ax =plt.subplots(1, 2, figsize=(10,5))\n",
    "sns.distplot(df_lbag_trnsf['Height'], bins=4, ax=ax[0])\n",
    "sns.boxplot(df_lbag_trnsf['Height'], ax=ax[1], color='mediumseagreen')\n",
    "plt.show()"
   ]
  },
  {
   "cell_type": "code",
   "execution_count": 20,
   "metadata": {},
   "outputs": [
    {
     "name": "stdout",
     "output_type": "stream",
     "text": [
      "With 99% quantile: 2 out of 157 are outliers\n",
      "With 95% quantile: 8 out of 157 are outliers\n"
     ]
    }
   ],
   "source": [
    "# Let's call the function for 'Height' feature\n",
    "\n",
    "outlier_stats(df_lbag_trnsf['Height'])"
   ]
  },
  {
   "cell_type": "code",
   "execution_count": 21,
   "metadata": {},
   "outputs": [],
   "source": [
    "# We will discard the outliers that exceeds 99% quantile range\n",
    "\n",
    "q=df_lbag_trnsf['Height'].quantile(.99)\n",
    "df_lbag_trnsf = df_lbag_trnsf[ df_lbag_trnsf['Height'] < q ]"
   ]
  },
  {
   "cell_type": "code",
   "execution_count": 22,
   "metadata": {},
   "outputs": [
    {
     "data": {
      "image/png": "[encoded data removed]",
      "text/plain": [
       "<Figure size 432x288 with 1 Axes>"
      ]
     },
     "metadata": {
      "needs_background": "light"
     },
     "output_type": "display_data"
    }
   ],
   "source": [
    "# Let's plot the Histogram for Height feature\n",
    "\n",
    "n, bins, _ = plt.hist(df_lbag_trnsf['Height'], bins=8)\n",
    "plt.xticks(np.round_(bins,0))\n",
    "plt.xlabel('Height')\n",
    "plt.ylabel('Frequency')\n",
    "plt.show()"
   ]
  },
  {
   "cell_type": "code",
   "execution_count": 23,
   "metadata": {},
   "outputs": [
    {
     "data": {
      "image/png": "[encoded data removed]",
      "text/plain": [
       "<Figure size 720x360 with 2 Axes>"
      ]
     },
     "metadata": {
      "needs_background": "light"
     },
     "output_type": "display_data"
    }
   ],
   "source": [
    "# Regplot for bag weight featues \n",
    "\n",
    "fig, ax=plt.subplots(1, 2, figsize=(10,5))\n",
    "sns.regplot(x='Weight', y='Cost', data=df_lbag_trnsf, ax=ax[0], color='darkmagenta')\n",
    "sns.regplot(x='Exp_weight', y='Cost', data=df_lbag_trnsf, ax=ax[1], color='g')\n",
    "plt.show()"
   ]
  },
  {
   "cell_type": "code",
   "execution_count": 24,
   "metadata": {},
   "outputs": [
    {
     "data": {
      "text/html": [
       "<div>\n",
       "<style scoped>\n",
       "    .dataframe tbody tr th:only-of-type {\n",
       "        vertical-align: middle;\n",
       "    }\n",
       "\n",
       "    .dataframe tbody tr th {\n",
       "        vertical-align: top;\n",
       "    }\n",
       "\n",
       "    .dataframe thead th {\n",
       "        text-align: right;\n",
       "    }\n",
       "</style>\n",
       "<table border=\"1\" class=\"dataframe\">\n",
       "  <thead>\n",
       "    <tr style=\"text-align: right;\">\n",
       "      <th></th>\n",
       "      <th>Cost</th>\n",
       "      <th>Weight</th>\n",
       "      <th>Exp_weight</th>\n",
       "      <th>Length</th>\n",
       "      <th>Height</th>\n",
       "      <th>Width</th>\n",
       "      <th>Area</th>\n",
       "      <th>Avg_weight</th>\n",
       "    </tr>\n",
       "  </thead>\n",
       "  <tbody>\n",
       "    <tr>\n",
       "      <th>0</th>\n",
       "      <td>242.0</td>\n",
       "      <td>23.2</td>\n",
       "      <td>25.4</td>\n",
       "      <td>30.0</td>\n",
       "      <td>11.5200</td>\n",
       "      <td>4.0200</td>\n",
       "      <td>120.60000</td>\n",
       "      <td>24.30</td>\n",
       "    </tr>\n",
       "    <tr>\n",
       "      <th>1</th>\n",
       "      <td>290.0</td>\n",
       "      <td>24.0</td>\n",
       "      <td>26.3</td>\n",
       "      <td>31.2</td>\n",
       "      <td>12.4800</td>\n",
       "      <td>4.3056</td>\n",
       "      <td>134.33472</td>\n",
       "      <td>25.15</td>\n",
       "    </tr>\n",
       "    <tr>\n",
       "      <th>2</th>\n",
       "      <td>340.0</td>\n",
       "      <td>23.9</td>\n",
       "      <td>26.5</td>\n",
       "      <td>31.1</td>\n",
       "      <td>12.3778</td>\n",
       "      <td>4.6961</td>\n",
       "      <td>146.04871</td>\n",
       "      <td>25.20</td>\n",
       "    </tr>\n",
       "    <tr>\n",
       "      <th>3</th>\n",
       "      <td>363.0</td>\n",
       "      <td>26.3</td>\n",
       "      <td>29.0</td>\n",
       "      <td>33.5</td>\n",
       "      <td>12.7300</td>\n",
       "      <td>4.4555</td>\n",
       "      <td>149.25925</td>\n",
       "      <td>27.65</td>\n",
       "    </tr>\n",
       "    <tr>\n",
       "      <th>4</th>\n",
       "      <td>430.0</td>\n",
       "      <td>26.5</td>\n",
       "      <td>29.0</td>\n",
       "      <td>34.0</td>\n",
       "      <td>12.4440</td>\n",
       "      <td>5.1340</td>\n",
       "      <td>174.55600</td>\n",
       "      <td>27.75</td>\n",
       "    </tr>\n",
       "  </tbody>\n",
       "</table>\n",
       "</div>"
      ],
      "text/plain": [
       "    Cost  Weight  Exp_weight  Length   Height   Width       Area  Avg_weight\n",
       "0  242.0    23.2        25.4    30.0  11.5200  4.0200  120.60000       24.30\n",
       "1  290.0    24.0        26.3    31.2  12.4800  4.3056  134.33472       25.15\n",
       "2  340.0    23.9        26.5    31.1  12.3778  4.6961  146.04871       25.20\n",
       "3  363.0    26.3        29.0    33.5  12.7300  4.4555  149.25925       27.65\n",
       "4  430.0    26.5        29.0    34.0  12.4440  5.1340  174.55600       27.75"
      ]
     },
     "execution_count": 24,
     "metadata": {},
     "output_type": "execute_result"
    }
   ],
   "source": [
    "# Again it looks both are having similar relationship with dependent variable i.e. 'Cost'\n",
    "# Let's create one common weight feature by taking average of both\n",
    "\n",
    "df_lbag_trnsf['Avg_weight']=df_lbag_trnsf[['Weight', 'Exp_weight']].mean(axis=1)\n",
    "df_lbag_trnsf.head()"
   ]
  },
  {
   "cell_type": "code",
   "execution_count": 25,
   "metadata": {},
   "outputs": [
    {
     "data": {
      "image/png": "[encoded data removed]",
      "text/plain": [
       "<Figure size 432x288 with 1 Axes>"
      ]
     },
     "metadata": {
      "needs_background": "light"
     },
     "output_type": "display_data"
    }
   ],
   "source": [
    "# Reg plot for Avg weight feature\n",
    "\n",
    "sns.regplot(x='Avg_weight', y='Cost', data=df_lbag_trnsf)\n",
    "plt.show()"
   ]
  },
  {
   "cell_type": "code",
   "execution_count": 26,
   "metadata": {},
   "outputs": [
    {
     "data": {
      "image/png": "[encoded data removed]",
      "text/plain": [
       "<Figure size 720x360 with 2 Axes>"
      ]
     },
     "metadata": {
      "needs_background": "light"
     },
     "output_type": "display_data"
    }
   ],
   "source": [
    "# Distribution & Box plot for 'Average weight of bag'\n",
    "\n",
    "fig, ax =plt.subplots(1, 2, figsize=(10,5))\n",
    "sns.distplot(df_lbag_trnsf['Avg_weight'], ax=ax[0], color='teal')\n",
    "sns.boxplot(df_lbag_trnsf['Avg_weight'], ax=ax[1])\n",
    "plt.show()"
   ]
  },
  {
   "cell_type": "markdown",
   "metadata": {},
   "source": [
    "From above box plot we can see that there are outliers. So we will see the outlier stats for Avg weight using the function we have created earlier"
   ]
  },
  {
   "cell_type": "code",
   "execution_count": 27,
   "metadata": {},
   "outputs": [
    {
     "name": "stdout",
     "output_type": "stream",
     "text": [
      "With 99% quantile: 2 out of 155 are outliers\n",
      "With 95% quantile: 8 out of 155 are outliers\n"
     ]
    }
   ],
   "source": [
    "outlier_stats(df_lbag_trnsf['Avg_weight'])"
   ]
  },
  {
   "cell_type": "code",
   "execution_count": 28,
   "metadata": {},
   "outputs": [],
   "source": [
    "# Considering small dataset available, we cannot afford to lose many observations. So, we will go with 99% quantile..\n",
    "\n",
    "q=df_lbag_trnsf['Avg_weight'].quantile(.99)\n",
    "df_lbag_trnsf = df_lbag_trnsf[ df_lbag_trnsf['Avg_weight'] < q ]"
   ]
  },
  {
   "cell_type": "code",
   "execution_count": 29,
   "metadata": {},
   "outputs": [
    {
     "data": {
      "image/png": "[encoded data removed]",
      "text/plain": [
       "<Figure size 432x288 with 1 Axes>"
      ]
     },
     "metadata": {
      "needs_background": "light"
     },
     "output_type": "display_data"
    }
   ],
   "source": [
    "# Let's create a box plot again..\n",
    "\n",
    "sns.boxplot(df_lbag_trnsf['Avg_weight'], color='tan')\n",
    "plt.show()"
   ]
  },
  {
   "cell_type": "code",
   "execution_count": 30,
   "metadata": {},
   "outputs": [
    {
     "data": {
      "image/png": "[encoded data removed]",
      "text/plain": [
       "<Figure size 432x288 with 1 Axes>"
      ]
     },
     "metadata": {
      "needs_background": "light"
     },
     "output_type": "display_data"
    }
   ],
   "source": [
    "# Let's plot the Histogram for Average weight feature\n",
    "\n",
    "n, bins, _ = plt.hist(df_lbag_trnsf['Avg_weight'])\n",
    "\n",
    "# to sync the xticks with histogram \n",
    "plt.xticks(np.round_(bins,0))\n",
    "plt.xlabel('Avg_weight')\n",
    "plt.ylabel('Frequency')\n",
    "\n",
    "plt.show()"
   ]
  },
  {
   "cell_type": "code",
   "execution_count": 31,
   "metadata": {},
   "outputs": [
    {
     "data": {
      "text/html": [
       "<div>\n",
       "<style scoped>\n",
       "    .dataframe tbody tr th:only-of-type {\n",
       "        vertical-align: middle;\n",
       "    }\n",
       "\n",
       "    .dataframe tbody tr th {\n",
       "        vertical-align: top;\n",
       "    }\n",
       "\n",
       "    .dataframe thead th {\n",
       "        text-align: right;\n",
       "    }\n",
       "</style>\n",
       "<table border=\"1\" class=\"dataframe\">\n",
       "  <thead>\n",
       "    <tr style=\"text-align: right;\">\n",
       "      <th></th>\n",
       "      <th>Cost</th>\n",
       "      <th>Weight</th>\n",
       "      <th>Exp_weight</th>\n",
       "      <th>Length</th>\n",
       "      <th>Height</th>\n",
       "      <th>Width</th>\n",
       "      <th>Area</th>\n",
       "      <th>Avg_weight</th>\n",
       "    </tr>\n",
       "  </thead>\n",
       "  <tbody>\n",
       "    <tr>\n",
       "      <th>count</th>\n",
       "      <td>153.000000</td>\n",
       "      <td>153.000000</td>\n",
       "      <td>153.000000</td>\n",
       "      <td>153.000000</td>\n",
       "      <td>153.000000</td>\n",
       "      <td>153.000000</td>\n",
       "      <td>153.000000</td>\n",
       "      <td>153.000000</td>\n",
       "    </tr>\n",
       "    <tr>\n",
       "      <th>mean</th>\n",
       "      <td>361.822876</td>\n",
       "      <td>25.363399</td>\n",
       "      <td>27.465359</td>\n",
       "      <td>30.205882</td>\n",
       "      <td>8.810317</td>\n",
       "      <td>4.328592</td>\n",
       "      <td>146.084544</td>\n",
       "      <td>26.414379</td>\n",
       "    </tr>\n",
       "    <tr>\n",
       "      <th>std</th>\n",
       "      <td>307.170695</td>\n",
       "      <td>8.889369</td>\n",
       "      <td>9.538705</td>\n",
       "      <td>10.418867</td>\n",
       "      <td>4.211673</td>\n",
       "      <td>1.653681</td>\n",
       "      <td>91.629034</td>\n",
       "      <td>9.212666</td>\n",
       "    </tr>\n",
       "    <tr>\n",
       "      <th>min</th>\n",
       "      <td>0.000000</td>\n",
       "      <td>7.500000</td>\n",
       "      <td>8.400000</td>\n",
       "      <td>8.800000</td>\n",
       "      <td>1.728400</td>\n",
       "      <td>1.047600</td>\n",
       "      <td>11.314080</td>\n",
       "      <td>7.950000</td>\n",
       "    </tr>\n",
       "    <tr>\n",
       "      <th>25%</th>\n",
       "      <td>120.000000</td>\n",
       "      <td>19.000000</td>\n",
       "      <td>21.000000</td>\n",
       "      <td>22.800000</td>\n",
       "      <td>5.917500</td>\n",
       "      <td>3.351600</td>\n",
       "      <td>78.440670</td>\n",
       "      <td>20.000000</td>\n",
       "    </tr>\n",
       "    <tr>\n",
       "      <th>50%</th>\n",
       "      <td>270.000000</td>\n",
       "      <td>24.100000</td>\n",
       "      <td>26.500000</td>\n",
       "      <td>29.000000</td>\n",
       "      <td>7.585200</td>\n",
       "      <td>4.234000</td>\n",
       "      <td>124.481050</td>\n",
       "      <td>25.300000</td>\n",
       "    </tr>\n",
       "    <tr>\n",
       "      <th>75%</th>\n",
       "      <td>600.000000</td>\n",
       "      <td>31.900000</td>\n",
       "      <td>35.000000</td>\n",
       "      <td>39.200000</td>\n",
       "      <td>12.354000</td>\n",
       "      <td>5.355000</td>\n",
       "      <td>210.519680</td>\n",
       "      <td>33.400000</td>\n",
       "    </tr>\n",
       "    <tr>\n",
       "      <th>max</th>\n",
       "      <td>1100.000000</td>\n",
       "      <td>48.300000</td>\n",
       "      <td>51.700000</td>\n",
       "      <td>55.100000</td>\n",
       "      <td>18.635400</td>\n",
       "      <td>8.142000</td>\n",
       "      <td>374.532000</td>\n",
       "      <td>50.000000</td>\n",
       "    </tr>\n",
       "  </tbody>\n",
       "</table>\n",
       "</div>"
      ],
      "text/plain": [
       "              Cost      Weight  Exp_weight      Length      Height  \\\n",
       "count   153.000000  153.000000  153.000000  153.000000  153.000000   \n",
       "mean    361.822876   25.363399   27.465359   30.205882    8.810317   \n",
       "std     307.170695    8.889369    9.538705   10.418867    4.211673   \n",
       "min       0.000000    7.500000    8.400000    8.800000    1.728400   \n",
       "25%     120.000000   19.000000   21.000000   22.800000    5.917500   \n",
       "50%     270.000000   24.100000   26.500000   29.000000    7.585200   \n",
       "75%     600.000000   31.900000   35.000000   39.200000   12.354000   \n",
       "max    1100.000000   48.300000   51.700000   55.100000   18.635400   \n",
       "\n",
       "            Width        Area  Avg_weight  \n",
       "count  153.000000  153.000000  153.000000  \n",
       "mean     4.328592  146.084544   26.414379  \n",
       "std      1.653681   91.629034    9.212666  \n",
       "min      1.047600   11.314080    7.950000  \n",
       "25%      3.351600   78.440670   20.000000  \n",
       "50%      4.234000  124.481050   25.300000  \n",
       "75%      5.355000  210.519680   33.400000  \n",
       "max      8.142000  374.532000   50.000000  "
      ]
     },
     "execution_count": 31,
     "metadata": {},
     "output_type": "execute_result"
    }
   ],
   "source": [
    "# with two additional dervied features, let's check the overall dataframe stats for one more time \n",
    "df_lbag_trnsf.describe()"
   ]
  },
  {
   "cell_type": "code",
   "execution_count": 32,
   "metadata": {},
   "outputs": [
    {
     "data": {
      "text/plain": [
       "Area          0.98\n",
       "Width         0.92\n",
       "Length        0.90\n",
       "Exp_weight    0.90\n",
       "Avg_weight    0.89\n",
       "Weight        0.89\n",
       "Height        0.81\n",
       "Name: Cost, dtype: float64"
      ]
     },
     "execution_count": 32,
     "metadata": {},
     "output_type": "execute_result"
    }
   ],
   "source": [
    "# with two additional dervied features, let's check the overall dataframe stats for one more time\n",
    "\n",
    "df_corr=df_lbag_trnsf.corr()\n",
    "\n",
    "# Excluding the target variable as there no need to check the self correlation \n",
    "filter = df_corr['Cost'].index != 'Cost' \n",
    "df_corr=df_corr['Cost'][ filter ]\n",
    "\n",
    "# Sorting the variables by correlation values in descending order\n",
    "df_corr.sort_values(ascending=False).round(2)"
   ]
  },
  {
   "cell_type": "code",
   "execution_count": 33,
   "metadata": {},
   "outputs": [
    {
     "data": {
      "image/png": "[encoded data removed]",
      "text/plain": [
       "<Figure size 504x504 with 2 Axes>"
      ]
     },
     "metadata": {
      "needs_background": "light"
     },
     "output_type": "display_data"
    }
   ],
   "source": [
    "# We can see that derived feature - Area is highly correlated compared to original dimensions. Let's create a updated heatmap..\n",
    "\n",
    "plt.figure(figsize=(7,7))\n",
    "sns.heatmap(df_lbag_trnsf.corr(), annot=True, cmap='YlGnBu')\n",
    "plt.show()"
   ]
  },
  {
   "cell_type": "code",
   "execution_count": 34,
   "metadata": {},
   "outputs": [
    {
     "data": {
      "text/plain": [
       "((153, 3), (153,))"
      ]
     },
     "execution_count": 34,
     "metadata": {},
     "output_type": "execute_result"
    }
   ],
   "source": [
    "# Set Model features (with derived variables)\n",
    "\n",
    "X=df_lbag_trnsf[['Avg_weight', 'Area', 'Height']].values\n",
    "y=df_lbag_trnsf['Cost'].values\n",
    "\n",
    "X.shape, y.shape"
   ]
  },
  {
   "cell_type": "markdown",
   "metadata": {},
   "source": [
    "## III. Model building"
   ]
  },
  {
   "cell_type": "markdown",
   "metadata": {},
   "source": [
    "### Train Test Split"
   ]
  },
  {
   "cell_type": "code",
   "execution_count": 35,
   "metadata": {},
   "outputs": [
    {
     "data": {
      "text/plain": [
       "((107, 3), (107,), (46, 3), (46,))"
      ]
     },
     "execution_count": 35,
     "metadata": {},
     "output_type": "execute_result"
    }
   ],
   "source": [
    "# Creating train test split with 7:3 ratio\n",
    "\n",
    "X_train, X_test, y_train, y_test = train_test_split(X, y, test_size=0.3, random_state=6, shuffle=True)\n",
    "\n",
    "# As the values in dataset are having different ranges, we need to standardize the features to bring into one scale\n",
    "X_train=StandardScaler().fit_transform(X_train)\n",
    "X_test=StandardScaler().fit_transform(X_test)\n",
    "\n",
    "# train & test datasets size\n",
    "X_train.shape, y_train.shape, X_test.shape, y_test.shape"
   ]
  },
  {
   "cell_type": "markdown",
   "metadata": {},
   "source": [
    "### 1. Sklearn"
   ]
  },
  {
   "cell_type": "code",
   "execution_count": 36,
   "metadata": {},
   "outputs": [
    {
     "name": "stdout",
     "output_type": "stream",
     "text": [
      "Degree- 1   Train score: 0.97   Testscore: 0.95\n",
      "Degree- 2   Train score: 0.99   Testscore: 0.97\n",
      "Degree- 3   Train score: 0.99   Testscore: 0.97\n",
      "Degree- 4   Train score: 0.98   Testscore: 0.70\n",
      "Degree- 5   Train score: 1.00   Testscore: -0.95\n"
     ]
    }
   ],
   "source": [
    "from sklearn.preprocessing import PolynomialFeatures\n",
    "\n",
    "# To analyse and find the degree of the model\n",
    "for i in range(1,6):\n",
    "    \n",
    "    x_poly_train=PolynomialFeatures(degree=i).fit_transform(X_train)\n",
    "    x_poly_test=PolynomialFeatures(degree=i).fit_transform(X_test)\n",
    "\n",
    "    lin_reg=LinearRegression()\n",
    "    lin_reg.fit(x_poly_train ,y_train)\n",
    "    \n",
    "    print(\"Degree- {}   Train score: {:.2f}   Testscore: {:.2f}\".format(i, lin_reg.score(x_poly_train, y_train),\n",
    "                                                                 lin_reg.score(x_poly_test, y_test)))"
   ]
  },
  {
   "cell_type": "code",
   "execution_count": 37,
   "metadata": {},
   "outputs": [
    {
     "data": {
      "text/plain": [
       "LinearRegression(copy_X=True, fit_intercept=True, n_jobs=None, normalize=False)"
      ]
     },
     "execution_count": 37,
     "metadata": {},
     "output_type": "execute_result"
    }
   ],
   "source": [
    "# We have already seen in EDA that data is not linearly variying i.e. degree 1 is not going to be suitable.\n",
    "# Degree 3 & higher seems to be not the good fit\n",
    "\n",
    "# Transforming the input variables into 2nd degree \n",
    "Xpoly_train=PolynomialFeatures(degree=2).fit_transform(X_train)\n",
    "Xpoly_test=PolynomialFeatures(degree=2).fit_transform(X_test)\n",
    "\n",
    "lin_reg=LinearRegression()\n",
    "lin_reg.fit(Xpoly_train ,y_train)"
   ]
  },
  {
   "cell_type": "code",
   "execution_count": 38,
   "metadata": {},
   "outputs": [
    {
     "name": "stdout",
     "output_type": "stream",
     "text": [
      "Model coefficients: [  0.    58.31 207.88  71.96  17.29 -15.12  99.67   0.55   2.92 -42.08]\n",
      "Model Intercept: 330.51\n"
     ]
    }
   ],
   "source": [
    "# Model coefficients/parameters & Intercept\n",
    "\n",
    "print(\"Model coefficients:\", np.round_(lin_reg.coef_,2))\n",
    "print(\"Model Intercept:\", np.round_(lin_reg.intercept_,2))"
   ]
  },
  {
   "cell_type": "code",
   "execution_count": 39,
   "metadata": {},
   "outputs": [
    {
     "name": "stdout",
     "output_type": "stream",
     "text": [
      "Cross validation score: 0.97\n"
     ]
    }
   ],
   "source": [
    "# Cross validating the model\n",
    "from sklearn.model_selection import cross_val_score\n",
    "from sklearn.utils import shuffle\n",
    "\n",
    "df=shuffle(df_lbag_trnsf).reset_index(drop=True)\n",
    "X=df[['Avg_weight', 'Area', 'Height']].values\n",
    "y=df['Cost'].values\n",
    "\n",
    "X=StandardScaler().fit_transform(X)\n",
    "Xp=PolynomialFeatures(degree=2).fit_transform(X)\n",
    "\n",
    "# Cross validation with 10 folds\n",
    "cv_scores=cross_val_score(lin_reg, Xp, y, cv=10)\n",
    "print (\"Cross validation score: {:.2f}\".format(np.mean(cv_scores)))"
   ]
  },
  {
   "cell_type": "code",
   "execution_count": 40,
   "metadata": {},
   "outputs": [],
   "source": [
    "from sklearn.metrics import mean_squared_error\n",
    "\n",
    "def model_evaluation(X, y, model, package_name):\n",
    "    \n",
    "    # Model predictions\n",
    "    y_pred_ts=model.predict(X)\n",
    "    rec_count=X.shape[0]\n",
    "\n",
    "    # Mean squared error\n",
    "    mse = mean_squared_error(y, y_pred_ts)\n",
    "    rmse = math.sqrt(mse)\n",
    "\n",
    "    # residual standard error\n",
    "    rse = mse * rec_count\n",
    "    rse /= rec_count-2 \n",
    "    rse = math.sqrt(rse)\n",
    "    \n",
    "    # R2 score\n",
    "    r2_score=model.score(X, y)\n",
    "\n",
    "    model_eval=pd.DataFrame([mse, rmse, rse, r2_score], columns=[package_name])\n",
    "    model_eval.index=['Mean Sqaured Error (MSE)', 'Root MSE (RMSE)', 'Residual Std Error (RSE)', 'R2 Score']\n",
    "    \n",
    "    return model_eval.round(2)"
   ]
  },
  {
   "cell_type": "code",
   "execution_count": 41,
   "metadata": {},
   "outputs": [
    {
     "data": {
      "text/html": [
       "<div>\n",
       "<style scoped>\n",
       "    .dataframe tbody tr th:only-of-type {\n",
       "        vertical-align: middle;\n",
       "    }\n",
       "\n",
       "    .dataframe tbody tr th {\n",
       "        vertical-align: top;\n",
       "    }\n",
       "\n",
       "    .dataframe thead th {\n",
       "        text-align: right;\n",
       "    }\n",
       "</style>\n",
       "<table border=\"1\" class=\"dataframe\">\n",
       "  <thead>\n",
       "    <tr style=\"text-align: right;\">\n",
       "      <th></th>\n",
       "      <th>Sklearn</th>\n",
       "    </tr>\n",
       "  </thead>\n",
       "  <tbody>\n",
       "    <tr>\n",
       "      <th>Mean Sqaured Error (MSE)</th>\n",
       "      <td>2979.72</td>\n",
       "    </tr>\n",
       "    <tr>\n",
       "      <th>Root MSE (RMSE)</th>\n",
       "      <td>54.59</td>\n",
       "    </tr>\n",
       "    <tr>\n",
       "      <th>Residual Std Error (RSE)</th>\n",
       "      <td>55.81</td>\n",
       "    </tr>\n",
       "    <tr>\n",
       "      <th>R2 Score</th>\n",
       "      <td>0.97</td>\n",
       "    </tr>\n",
       "  </tbody>\n",
       "</table>\n",
       "</div>"
      ],
      "text/plain": [
       "                          Sklearn\n",
       "Mean Sqaured Error (MSE)  2979.72\n",
       "Root MSE (RMSE)             54.59\n",
       "Residual Std Error (RSE)    55.81\n",
       "R2 Score                     0.97"
      ]
     },
     "execution_count": 41,
     "metadata": {},
     "output_type": "execute_result"
    }
   ],
   "source": [
    "# call the above function to evaluate Sklearn regression model\n",
    "Sklearn_eval=model_evaluation(Xpoly_test, y_test, lin_reg, 'Sklearn')\n",
    "Sklearn_eval"
   ]
  },
  {
   "cell_type": "markdown",
   "metadata": {},
   "source": [
    "### 2. Stochastic Gradient Descent"
   ]
  },
  {
   "cell_type": "code",
   "execution_count": 42,
   "metadata": {},
   "outputs": [
    {
     "data": {
      "text/plain": [
       "SGDRegressor(alpha=0.0001, average=False, early_stopping=False, epsilon=0.1,\n",
       "             eta0=0.01, fit_intercept=False, l1_ratio=0.15,\n",
       "             learning_rate='invscaling', loss='squared_loss', max_iter=100000,\n",
       "             n_iter_no_change=5, penalty='l2', power_t=0.25, random_state=None,\n",
       "             shuffle=True, tol=0.0001, validation_fraction=0.1, verbose=0,\n",
       "             warm_start=False)"
      ]
     },
     "execution_count": 42,
     "metadata": {},
     "output_type": "execute_result"
    }
   ],
   "source": [
    "from sklearn.linear_model import SGDRegressor\n",
    "\n",
    "# Using  SGD regressor from sklearn library\n",
    "sgd_reg = SGDRegressor(max_iter=100000, tol=1e-4, eta0=1e-2, fit_intercept=False)\n",
    "sgd_reg.fit(Xpoly_train, y_train)"
   ]
  },
  {
   "cell_type": "code",
   "execution_count": 43,
   "metadata": {},
   "outputs": [
    {
     "name": "stdout",
     "output_type": "stream",
     "text": [
      "Model coefficients: [291.57 103.3  116.49  81.47 -14.02  13.    12.4   49.04  14.46   3.12]\n",
      "Model Intercept: [0.]\n"
     ]
    }
   ],
   "source": [
    "# Model coefficients/parameters & Intercept\n",
    "\n",
    "print(\"Model coefficients:\", np.round_(sgd_reg.coef_,2))\n",
    "print(\"Model Intercept:\", np.round_(sgd_reg.intercept_,2))"
   ]
  },
  {
   "cell_type": "code",
   "execution_count": 44,
   "metadata": {},
   "outputs": [
    {
     "name": "stdout",
     "output_type": "stream",
     "text": [
      "Cross validation score: 0.97\n"
     ]
    }
   ],
   "source": [
    "# SGD Cross validation score\n",
    "\n",
    "cv_scores=cross_val_score(sgd_reg, Xp, y, cv=10)\n",
    "print (\"Cross validation score: {:.2f}\".format(np.mean(cv_scores)))"
   ]
  },
  {
   "cell_type": "code",
   "execution_count": 45,
   "metadata": {},
   "outputs": [
    {
     "data": {
      "text/html": [
       "<div>\n",
       "<style scoped>\n",
       "    .dataframe tbody tr th:only-of-type {\n",
       "        vertical-align: middle;\n",
       "    }\n",
       "\n",
       "    .dataframe tbody tr th {\n",
       "        vertical-align: top;\n",
       "    }\n",
       "\n",
       "    .dataframe thead th {\n",
       "        text-align: right;\n",
       "    }\n",
       "</style>\n",
       "<table border=\"1\" class=\"dataframe\">\n",
       "  <thead>\n",
       "    <tr style=\"text-align: right;\">\n",
       "      <th></th>\n",
       "      <th>SGD</th>\n",
       "    </tr>\n",
       "  </thead>\n",
       "  <tbody>\n",
       "    <tr>\n",
       "      <th>Mean Sqaured Error (MSE)</th>\n",
       "      <td>3137.00</td>\n",
       "    </tr>\n",
       "    <tr>\n",
       "      <th>Root MSE (RMSE)</th>\n",
       "      <td>56.01</td>\n",
       "    </tr>\n",
       "    <tr>\n",
       "      <th>Residual Std Error (RSE)</th>\n",
       "      <td>57.27</td>\n",
       "    </tr>\n",
       "    <tr>\n",
       "      <th>R2 Score</th>\n",
       "      <td>0.97</td>\n",
       "    </tr>\n",
       "  </tbody>\n",
       "</table>\n",
       "</div>"
      ],
      "text/plain": [
       "                              SGD\n",
       "Mean Sqaured Error (MSE)  3137.00\n",
       "Root MSE (RMSE)             56.01\n",
       "Residual Std Error (RSE)    57.27\n",
       "R2 Score                     0.97"
      ]
     },
     "execution_count": 45,
     "metadata": {},
     "output_type": "execute_result"
    }
   ],
   "source": [
    "# Call evaluation funcation for SGD model\n",
    "SGD_eval=model_evaluation(Xpoly_test, y_test, sgd_reg, 'SGD')\n",
    "SGD_eval"
   ]
  },
  {
   "cell_type": "markdown",
   "metadata": {},
   "source": [
    "### 3. Batch Gradient Descent"
   ]
  },
  {
   "cell_type": "code",
   "execution_count": 46,
   "metadata": {},
   "outputs": [],
   "source": [
    "# Reshaping target variable into vector\n",
    "y_train = y_train.reshape(-1, 1)\n",
    "y_test = y_test.reshape(-1, 1)"
   ]
  },
  {
   "cell_type": "code",
   "execution_count": 47,
   "metadata": {},
   "outputs": [],
   "source": [
    "# Cost function\n",
    "def  cal_cost(theta,X,y):\n",
    "    '''\n",
    "    \n",
    "    Calculates the cost for given X and Y. The following shows and example of a single dimensional X\n",
    "    theta = Vector of thetas \n",
    "    X     = Row of X's np.zeros((2,j))\n",
    "    y     = Actual y's np.zeros((2,1))\n",
    "    \n",
    "    where:\n",
    "        j is the no of features\n",
    "    '''\n",
    "    \n",
    "    m = len(y)\n",
    "    \n",
    "    predictions = X.dot(theta)\n",
    "    cost = (1/2*m) * np.sum(np.square(predictions-y))\n",
    "    return cost"
   ]
  },
  {
   "cell_type": "code",
   "execution_count": 48,
   "metadata": {},
   "outputs": [],
   "source": [
    "# Gradient descent function\n",
    "def gradient_descent(X,y,theta,learning_rate=0.01,iterations=100):\n",
    "    '''\n",
    "    X    = Matrix of X with added bias units\n",
    "    y    = Vector of Y\n",
    "    theta=Vector of thetas np.random.randn(j,1)\n",
    "    learning_rate \n",
    "    iterations = no of iterations\n",
    "    \n",
    "    Returns the final theta vector and array of cost history over no of iterations\n",
    "    '''\n",
    "    m = len(y)\n",
    "    cost_history = np.zeros(iterations)\n",
    "    theta_history = np.zeros((iterations,X.shape[1]))\n",
    "    for i in range(iterations):\n",
    "        \n",
    "        prediction = np.dot(X,theta)\n",
    "        \n",
    "        theta = theta -(1/m)*learning_rate*( X.T.dot((prediction - y)))\n",
    "        theta_history[i,:] =theta.T\n",
    "        cost_history[i]  = cal_cost(theta,X,y)\n",
    "        \n",
    "    return theta, cost_history, theta_history"
   ]
  },
  {
   "cell_type": "code",
   "execution_count": 49,
   "metadata": {},
   "outputs": [
    {
     "name": "stdout",
     "output_type": "stream",
     "text": [
      "Theta values:\n",
      " [[ 1.65811998e+02]\n",
      " [ 1.64718876e+02]\n",
      " [ 5.82767084e+01]\n",
      " [ 2.07943252e+02]\n",
      " [ 7.19307255e+01]\n",
      " [ 1.69339765e+01]\n",
      " [-1.42152994e+01]\n",
      " [ 9.93539286e+01]\n",
      " [ 2.10276852e-02]\n",
      " [ 3.23147346e+00]\n",
      " [-4.20894420e+01]]\n",
      "\n",
      "Final training cost/RMSE:  2764.822\n"
     ]
    }
   ],
   "source": [
    "# Set gradient descent parameters\n",
    "lr =0.1\n",
    "n_iter = 15000\n",
    "cols = Xpoly_train.shape[1]+1\n",
    "\n",
    "theta = np.random.randn(cols,1)\n",
    "\n",
    "# Adding default bias term for theta_0\n",
    "Xpoly_train_B = np.c_[np.ones((len(Xpoly_train),1)), Xpoly_train]\n",
    "Xpoly_test_B = np.c_[np.ones((len(Xpoly_test),1)), Xpoly_test]\n",
    "\n",
    "theta,cost_history,theta_history = gradient_descent(Xpoly_train_B, y_train, theta, lr, n_iter)\n",
    "\n",
    "print('Theta values:\\n', theta)\n",
    "print('\\nFinal training cost/RMSE:  {:0.3f}'.format(math.sqrt(cost_history[-1])))"
   ]
  },
  {
   "cell_type": "code",
   "execution_count": 50,
   "metadata": {},
   "outputs": [],
   "source": [
    "from sklearn.metrics import r2_score\n",
    "\n",
    "def gd_model_evaluation(X, y, Theta, package_name):\n",
    "\n",
    "    # Model predictions\n",
    "    yhat = X.dot(theta)\n",
    "    rec_count=X.shape[0]\n",
    "    \n",
    "    # Mean Squared Error\n",
    "    mse = mean_squared_error(y, yhat)\n",
    "    rmse = math.sqrt(mse)\n",
    "\n",
    "    # Residual Standard Error\n",
    "    rse = mse * rec_count\n",
    "    rse /= rec_count-2 \n",
    "    rse = math.sqrt(rse)\n",
    "    \n",
    "    # R2_score\n",
    "    r2_scr=r2_score(y, yhat)\n",
    "    \n",
    "    model_eval=pd.DataFrame([mse, rmse, rse, r2_scr], columns=[package_name])\n",
    "    model_eval.index=['Mean Sqaured Error (MSE)', 'Root MSE (RMSE)', 'Residual Std Error (RSE)', 'R2 Score']\n",
    "    \n",
    "    return model_eval.round(2)"
   ]
  },
  {
   "cell_type": "code",
   "execution_count": 51,
   "metadata": {},
   "outputs": [
    {
     "data": {
      "text/html": [
       "<div>\n",
       "<style scoped>\n",
       "    .dataframe tbody tr th:only-of-type {\n",
       "        vertical-align: middle;\n",
       "    }\n",
       "\n",
       "    .dataframe tbody tr th {\n",
       "        vertical-align: top;\n",
       "    }\n",
       "\n",
       "    .dataframe thead th {\n",
       "        text-align: right;\n",
       "    }\n",
       "</style>\n",
       "<table border=\"1\" class=\"dataframe\">\n",
       "  <thead>\n",
       "    <tr style=\"text-align: right;\">\n",
       "      <th></th>\n",
       "      <th>Batch GD</th>\n",
       "    </tr>\n",
       "  </thead>\n",
       "  <tbody>\n",
       "    <tr>\n",
       "      <th>Mean Sqaured Error (MSE)</th>\n",
       "      <td>2979.44</td>\n",
       "    </tr>\n",
       "    <tr>\n",
       "      <th>Root MSE (RMSE)</th>\n",
       "      <td>54.58</td>\n",
       "    </tr>\n",
       "    <tr>\n",
       "      <th>Residual Std Error (RSE)</th>\n",
       "      <td>55.81</td>\n",
       "    </tr>\n",
       "    <tr>\n",
       "      <th>R2 Score</th>\n",
       "      <td>0.97</td>\n",
       "    </tr>\n",
       "  </tbody>\n",
       "</table>\n",
       "</div>"
      ],
      "text/plain": [
       "                          Batch GD\n",
       "Mean Sqaured Error (MSE)   2979.44\n",
       "Root MSE (RMSE)              54.58\n",
       "Residual Std Error (RSE)     55.81\n",
       "R2 Score                      0.97"
      ]
     },
     "execution_count": 51,
     "metadata": {},
     "output_type": "execute_result"
    }
   ],
   "source": [
    "# Function call for Batch gradient descent evaluation\n",
    "Batch_GD=gd_model_evaluation(Xpoly_test_B, y_test, theta, 'Batch GD')\n",
    "Batch_GD"
   ]
  },
  {
   "cell_type": "markdown",
   "metadata": {},
   "source": [
    "### 4. Mini Batch Gradient Descent"
   ]
  },
  {
   "cell_type": "code",
   "execution_count": 52,
   "metadata": {},
   "outputs": [],
   "source": [
    "def minibatch_gradient_descent(X,y,theta,learning_rate=0.01,iterations=10,batch_size =30):\n",
    "    '''\n",
    "    X    = Matrix of X without added bias units\n",
    "    y    = Vector of Y\n",
    "    theta=Vector of thetas np.random.randn(j,1)\n",
    "    learning_rate \n",
    "    iterations = no of iterations\n",
    "    \n",
    "    Returns the final theta vector and array of cost history over no of iterations\n",
    "    '''\n",
    "    m = len(y)\n",
    "    cost_history = np.zeros(iterations)\n",
    "    n_batches = int(m/batch_size)\n",
    "    \n",
    "    for it in range(iterations):\n",
    "        cost =0.0\n",
    "        indices = np.random.permutation(m)\n",
    "        X = X[indices]\n",
    "        y = y[indices]\n",
    "        for i in range(0,m,batch_size):\n",
    "            X_i = X[i:i+batch_size]\n",
    "            y_i = y[i:i+batch_size]\n",
    "            \n",
    "            X_i = np.c_[np.ones(len(X_i)),X_i]\n",
    "           \n",
    "            prediction = np.dot(X_i,theta)\n",
    "\n",
    "            theta = theta -(1/m)*learning_rate*( X_i.T.dot((prediction - y_i)))\n",
    "            cost += cal_cost(theta,X_i,y_i)\n",
    "        cost_history[it]  = cost\n",
    "        \n",
    "    return theta, cost_history"
   ]
  },
  {
   "cell_type": "code",
   "execution_count": 53,
   "metadata": {},
   "outputs": [
    {
     "name": "stdout",
     "output_type": "stream",
     "text": [
      "Theta values:\n",
      " [[165.13263023]\n",
      " [165.27968897]\n",
      " [ 60.03872262]\n",
      " [206.47268327]\n",
      " [ 71.74092382]\n",
      " [ 13.0210424 ]\n",
      " [ -6.14341095]\n",
      " [ 98.30266934]\n",
      " [ -4.62643307]\n",
      " [  4.71044672]\n",
      " [-42.69995571]]\n",
      "\n",
      "Final traning cost/RMSE:  2767.671\n"
     ]
    }
   ],
   "source": [
    "# Set gradient descent parameters\n",
    "lr =0.1\n",
    "n_iter = 5000\n",
    "\n",
    "# Initializing theta with random numbers\n",
    "theta = np.random.randn(cols,1)\n",
    "\n",
    "theta, cost_history = minibatch_gradient_descent(Xpoly_train, y_train, theta, lr, n_iter)\n",
    "\n",
    "print('Theta values:\\n', theta)\n",
    "print('\\nFinal traning cost/RMSE:  {:0.3f}'.format(math.sqrt(cal_cost(theta, Xpoly_train_B, y_train))))"
   ]
  },
  {
   "cell_type": "code",
   "execution_count": 54,
   "metadata": {},
   "outputs": [
    {
     "data": {
      "text/html": [
       "<div>\n",
       "<style scoped>\n",
       "    .dataframe tbody tr th:only-of-type {\n",
       "        vertical-align: middle;\n",
       "    }\n",
       "\n",
       "    .dataframe tbody tr th {\n",
       "        vertical-align: top;\n",
       "    }\n",
       "\n",
       "    .dataframe thead th {\n",
       "        text-align: right;\n",
       "    }\n",
       "</style>\n",
       "<table border=\"1\" class=\"dataframe\">\n",
       "  <thead>\n",
       "    <tr style=\"text-align: right;\">\n",
       "      <th></th>\n",
       "      <th>MiniBatch GD</th>\n",
       "    </tr>\n",
       "  </thead>\n",
       "  <tbody>\n",
       "    <tr>\n",
       "      <th>Mean Sqaured Error (MSE)</th>\n",
       "      <td>2959.02</td>\n",
       "    </tr>\n",
       "    <tr>\n",
       "      <th>Root MSE (RMSE)</th>\n",
       "      <td>54.40</td>\n",
       "    </tr>\n",
       "    <tr>\n",
       "      <th>Residual Std Error (RSE)</th>\n",
       "      <td>55.62</td>\n",
       "    </tr>\n",
       "    <tr>\n",
       "      <th>R2 Score</th>\n",
       "      <td>0.97</td>\n",
       "    </tr>\n",
       "  </tbody>\n",
       "</table>\n",
       "</div>"
      ],
      "text/plain": [
       "                          MiniBatch GD\n",
       "Mean Sqaured Error (MSE)       2959.02\n",
       "Root MSE (RMSE)                  54.40\n",
       "Residual Std Error (RSE)         55.62\n",
       "R2 Score                          0.97"
      ]
     },
     "execution_count": 54,
     "metadata": {},
     "output_type": "execute_result"
    }
   ],
   "source": [
    "# Call evaluation function for Mini batch GD\n",
    "Mini_Batch_GD=gd_model_evaluation(Xpoly_test_B, y_test, theta, 'MiniBatch GD')\n",
    "Mini_Batch_GD"
   ]
  },
  {
   "cell_type": "markdown",
   "metadata": {},
   "source": [
    "### <u>Models comparison<u/>"
   ]
  },
  {
   "cell_type": "markdown",
   "metadata": {},
   "source": [
    "Let's compare the different models we have build using different techiniques and we will see how close they are."
   ]
  },
  {
   "cell_type": "code",
   "execution_count": 55,
   "metadata": {},
   "outputs": [
    {
     "data": {
      "text/html": [
       "<div>\n",
       "<style scoped>\n",
       "    .dataframe tbody tr th:only-of-type {\n",
       "        vertical-align: middle;\n",
       "    }\n",
       "\n",
       "    .dataframe tbody tr th {\n",
       "        vertical-align: top;\n",
       "    }\n",
       "\n",
       "    .dataframe thead th {\n",
       "        text-align: right;\n",
       "    }\n",
       "</style>\n",
       "<table border=\"1\" class=\"dataframe\">\n",
       "  <thead>\n",
       "    <tr style=\"text-align: right;\">\n",
       "      <th></th>\n",
       "      <th>Sklearn</th>\n",
       "      <th>SGD</th>\n",
       "      <th>Batch GD</th>\n",
       "      <th>MiniBatch GD</th>\n",
       "    </tr>\n",
       "  </thead>\n",
       "  <tbody>\n",
       "    <tr>\n",
       "      <th>Mean Sqaured Error (MSE)</th>\n",
       "      <td>2979.72</td>\n",
       "      <td>3137.00</td>\n",
       "      <td>2979.44</td>\n",
       "      <td>2959.02</td>\n",
       "    </tr>\n",
       "    <tr>\n",
       "      <th>Root MSE (RMSE)</th>\n",
       "      <td>54.59</td>\n",
       "      <td>56.01</td>\n",
       "      <td>54.58</td>\n",
       "      <td>54.40</td>\n",
       "    </tr>\n",
       "    <tr>\n",
       "      <th>Residual Std Error (RSE)</th>\n",
       "      <td>55.81</td>\n",
       "      <td>57.27</td>\n",
       "      <td>55.81</td>\n",
       "      <td>55.62</td>\n",
       "    </tr>\n",
       "    <tr>\n",
       "      <th>R2 Score</th>\n",
       "      <td>0.97</td>\n",
       "      <td>0.97</td>\n",
       "      <td>0.97</td>\n",
       "      <td>0.97</td>\n",
       "    </tr>\n",
       "  </tbody>\n",
       "</table>\n",
       "</div>"
      ],
      "text/plain": [
       "                          Sklearn      SGD  Batch GD  MiniBatch GD\n",
       "Mean Sqaured Error (MSE)  2979.72  3137.00   2979.44       2959.02\n",
       "Root MSE (RMSE)             54.59    56.01     54.58         54.40\n",
       "Residual Std Error (RSE)    55.81    57.27     55.81         55.62\n",
       "R2 Score                     0.97     0.97      0.97          0.97"
      ]
     },
     "execution_count": 55,
     "metadata": {},
     "output_type": "execute_result"
    }
   ],
   "source": [
    "pd.concat([Sklearn_eval, SGD_eval, Batch_GD, Mini_Batch_GD], axis=1)"
   ]
  }
 ],
 "metadata": {
  "celltoolbar": "Raw Cell Format",
  "kernelspec": {
   "display_name": "Python 3",
   "language": "python",
   "name": "python3"
  },
  "language_info": {
   "codemirror_mode": {
    "name": "ipython",
    "version": 3
   },
   "file_extension": ".py",
   "mimetype": "text/x-python",
   "name": "python",
   "nbconvert_exporter": "python",
   "pygments_lexer": "ipython3",
   "version": "3.6.6"
  }
 },
 "nbformat": 4,
 "nbformat_minor": 4
}
